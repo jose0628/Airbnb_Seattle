{
 "cells": [
  {
   "cell_type": "markdown",
   "metadata": {},
   "source": [
    "## AirBnB Seattle Analysis with CRISP-DM (Cross Industry Standard Process for Data Mining) \n",
    "\n",
    "A brief analysis example using CRISP-DM methodology. This methodology suggest a data analysis in the following steps:\n",
    "\n",
    "* Business Understanding\n",
    "* Data understanding\n",
    "* Data Preparation\n",
    "* Modeling\n",
    "* Evaluation\n",
    "* Deployment"
   ]
  },
  {
   "cell_type": "markdown",
   "metadata": {},
   "source": [
    "### Business Understanding\n",
    "\n",
    "Imagine that you have a room or an appartment in Seattle and you would like to offer it via Airbnb. In order o help you to make an initial setup and list it in Airbnb. You would like to know some simple insights of the Airbnb market. The following questions represent in general a good overview of the Airbnb market.\n",
    "\n",
    "* What is the relation room type and part of the city with the price?\n",
    "* Is there a price difference between room type and the bed type?\n",
    "* Are bathrooms or bedrooms important perks to influence the price?\n",
    "* What are the top amenities offered?\n",
    "* What months are cheaper to visit Seattle?\n",
    "* What are features or characteristics that influence in the price of a room?"
   ]
  },
  {
   "cell_type": "code",
   "execution_count": 89,
   "metadata": {},
   "outputs": [],
   "source": [
    "# Here I just add some libraries, which will be useful during the process.\n",
    "\n",
    "import numpy as np\n",
    "import pandas as pd\n",
    "import matplotlib.pyplot as plt\n",
    "from sklearn.linear_model import LinearRegression\n",
    "from sklearn.model_selection import train_test_split\n",
    "from sklearn.metrics import r2_score, mean_squared_error\n",
    "import seaborn as sns\n",
    "from sklearn.preprocessing import MultiLabelBinarizer,LabelEncoder,OneHotEncoder,StandardScaler \n",
    "import sklearn.metrics as mtr\n",
    "import math\n",
    "%matplotlib inline"
   ]
  },
  {
   "cell_type": "markdown",
   "metadata": {},
   "source": [
    "### Data Understanding\n",
    "\n",
    "Second step is to explore the data and based on the [AirBnB Seattle Dataset](https://www.kaggle.com/airbnb/seattle/data), we will get mainly three datasets, which we will analyse:\n",
    "\n",
    "* calendar.csv ==> Booking information of houses in Seattle.\n",
    "* listings.csv ==> Information of houses in Seattle.\n",
    "* reviews.csv ==> Reviews of houses in Seattle.\n"
   ]
  },
  {
   "cell_type": "code",
   "execution_count": 90,
   "metadata": {},
   "outputs": [
    {
     "name": "stdout",
     "output_type": "stream",
     "text": [
      "The dataset calendar has 1393570 rows and 4 columns.\n",
      "The dataset reviews has 84849 rows and 6 columns.\n",
      "The dataset listings has 3818 rows and 92 columns.\n"
     ]
    }
   ],
   "source": [
    "# Loading the datasets in pandas\n",
    "\n",
    "df_calendar = pd.read_csv('datasets/calendar.csv')\n",
    "df_reviews = pd.read_csv('datasets/reviews.csv')\n",
    "df_listings = pd.read_csv('datasets/listings.csv')\n",
    "\n",
    "print('The dataset calendar has {} rows and {} columns.'.format(df_calendar.shape[0], df_calendar.shape[1]))\n",
    "print('The dataset reviews has {} rows and {} columns.'.format(df_reviews.shape[0], df_reviews.shape[1]))\n",
    "print('The dataset listings has {} rows and {} columns.'.format(df_listings.shape[0], df_listings.shape[1]))"
   ]
  },
  {
   "cell_type": "markdown",
   "metadata": {},
   "source": [
    "#### Data Cleaning & Exploration Strategy \n",
    "Based on the size of the datasets, we see that the calendar has most of the entries and the listings has most of the columns or features. \n",
    "\n",
    "The first step will be to get a sample of the first 5 rows in three datasets, in order to see the information provided and searh for information that can help us to answer the business questions.\n",
    "\n",
    "Then in a further step, we will proceed to discard or impute some values, depending of the information needed."
   ]
  },
  {
   "cell_type": "code",
   "execution_count": 91,
   "metadata": {},
   "outputs": [
    {
     "data": {
      "text/html": [
       "<div>\n",
       "<style scoped>\n",
       "    .dataframe tbody tr th:only-of-type {\n",
       "        vertical-align: middle;\n",
       "    }\n",
       "\n",
       "    .dataframe tbody tr th {\n",
       "        vertical-align: top;\n",
       "    }\n",
       "\n",
       "    .dataframe thead th {\n",
       "        text-align: right;\n",
       "    }\n",
       "</style>\n",
       "<table border=\"1\" class=\"dataframe\">\n",
       "  <thead>\n",
       "    <tr style=\"text-align: right;\">\n",
       "      <th></th>\n",
       "      <th>listing_id</th>\n",
       "      <th>date</th>\n",
       "      <th>available</th>\n",
       "      <th>price</th>\n",
       "    </tr>\n",
       "  </thead>\n",
       "  <tbody>\n",
       "    <tr>\n",
       "      <th>0</th>\n",
       "      <td>241032</td>\n",
       "      <td>2016-01-04</td>\n",
       "      <td>t</td>\n",
       "      <td>$85.00</td>\n",
       "    </tr>\n",
       "    <tr>\n",
       "      <th>1</th>\n",
       "      <td>241032</td>\n",
       "      <td>2016-01-05</td>\n",
       "      <td>t</td>\n",
       "      <td>$85.00</td>\n",
       "    </tr>\n",
       "    <tr>\n",
       "      <th>2</th>\n",
       "      <td>241032</td>\n",
       "      <td>2016-01-06</td>\n",
       "      <td>f</td>\n",
       "      <td>NaN</td>\n",
       "    </tr>\n",
       "    <tr>\n",
       "      <th>3</th>\n",
       "      <td>241032</td>\n",
       "      <td>2016-01-07</td>\n",
       "      <td>f</td>\n",
       "      <td>NaN</td>\n",
       "    </tr>\n",
       "    <tr>\n",
       "      <th>4</th>\n",
       "      <td>241032</td>\n",
       "      <td>2016-01-08</td>\n",
       "      <td>f</td>\n",
       "      <td>NaN</td>\n",
       "    </tr>\n",
       "  </tbody>\n",
       "</table>\n",
       "</div>"
      ],
      "text/plain": [
       "   listing_id        date available   price\n",
       "0      241032  2016-01-04         t  $85.00\n",
       "1      241032  2016-01-05         t  $85.00\n",
       "2      241032  2016-01-06         f     NaN\n",
       "3      241032  2016-01-07         f     NaN\n",
       "4      241032  2016-01-08         f     NaN"
      ]
     },
     "execution_count": 91,
     "metadata": {},
     "output_type": "execute_result"
    }
   ],
   "source": [
    "df_calendar.head(5)"
   ]
  },
  {
   "cell_type": "code",
   "execution_count": 92,
   "metadata": {},
   "outputs": [
    {
     "data": {
      "text/plain": [
       "listing_id    0.00000\n",
       "date          0.00000\n",
       "available     0.00000\n",
       "price         0.32939\n",
       "dtype: float64"
      ]
     },
     "execution_count": 92,
     "metadata": {},
     "output_type": "execute_result"
    }
   ],
   "source": [
    "# Now lets take a look on the null values contained in the dataframe\n",
    "null_ratio_calendar = df_calendar.isnull().sum()/df_calendar.shape[0]\n",
    "null_ratio_calendar"
   ]
  },
  {
   "cell_type": "markdown",
   "metadata": {},
   "source": [
    "It looks like the price has a 32.93% ratio of missing values, in this case, it may be convenient to drop them."
   ]
  },
  {
   "cell_type": "code",
   "execution_count": 93,
   "metadata": {},
   "outputs": [
    {
     "data": {
      "text/html": [
       "<div>\n",
       "<style scoped>\n",
       "    .dataframe tbody tr th:only-of-type {\n",
       "        vertical-align: middle;\n",
       "    }\n",
       "\n",
       "    .dataframe tbody tr th {\n",
       "        vertical-align: top;\n",
       "    }\n",
       "\n",
       "    .dataframe thead th {\n",
       "        text-align: right;\n",
       "    }\n",
       "</style>\n",
       "<table border=\"1\" class=\"dataframe\">\n",
       "  <thead>\n",
       "    <tr style=\"text-align: right;\">\n",
       "      <th></th>\n",
       "      <th>listing_id</th>\n",
       "      <th>id</th>\n",
       "      <th>date</th>\n",
       "      <th>reviewer_id</th>\n",
       "      <th>reviewer_name</th>\n",
       "      <th>comments</th>\n",
       "    </tr>\n",
       "  </thead>\n",
       "  <tbody>\n",
       "    <tr>\n",
       "      <th>0</th>\n",
       "      <td>7202016</td>\n",
       "      <td>38917982</td>\n",
       "      <td>2015-07-19</td>\n",
       "      <td>28943674</td>\n",
       "      <td>Bianca</td>\n",
       "      <td>Cute and cozy place. Perfect location to every...</td>\n",
       "    </tr>\n",
       "    <tr>\n",
       "      <th>1</th>\n",
       "      <td>7202016</td>\n",
       "      <td>39087409</td>\n",
       "      <td>2015-07-20</td>\n",
       "      <td>32440555</td>\n",
       "      <td>Frank</td>\n",
       "      <td>Kelly has a great room in a very central locat...</td>\n",
       "    </tr>\n",
       "    <tr>\n",
       "      <th>2</th>\n",
       "      <td>7202016</td>\n",
       "      <td>39820030</td>\n",
       "      <td>2015-07-26</td>\n",
       "      <td>37722850</td>\n",
       "      <td>Ian</td>\n",
       "      <td>Very spacious apartment, and in a great neighb...</td>\n",
       "    </tr>\n",
       "    <tr>\n",
       "      <th>3</th>\n",
       "      <td>7202016</td>\n",
       "      <td>40813543</td>\n",
       "      <td>2015-08-02</td>\n",
       "      <td>33671805</td>\n",
       "      <td>George</td>\n",
       "      <td>Close to Seattle Center and all it has to offe...</td>\n",
       "    </tr>\n",
       "    <tr>\n",
       "      <th>4</th>\n",
       "      <td>7202016</td>\n",
       "      <td>41986501</td>\n",
       "      <td>2015-08-10</td>\n",
       "      <td>34959538</td>\n",
       "      <td>Ming</td>\n",
       "      <td>Kelly was a great host and very accommodating ...</td>\n",
       "    </tr>\n",
       "  </tbody>\n",
       "</table>\n",
       "</div>"
      ],
      "text/plain": [
       "   listing_id        id        date  reviewer_id reviewer_name  \\\n",
       "0     7202016  38917982  2015-07-19     28943674        Bianca   \n",
       "1     7202016  39087409  2015-07-20     32440555         Frank   \n",
       "2     7202016  39820030  2015-07-26     37722850           Ian   \n",
       "3     7202016  40813543  2015-08-02     33671805        George   \n",
       "4     7202016  41986501  2015-08-10     34959538          Ming   \n",
       "\n",
       "                                            comments  \n",
       "0  Cute and cozy place. Perfect location to every...  \n",
       "1  Kelly has a great room in a very central locat...  \n",
       "2  Very spacious apartment, and in a great neighb...  \n",
       "3  Close to Seattle Center and all it has to offe...  \n",
       "4  Kelly was a great host and very accommodating ...  "
      ]
     },
     "execution_count": 93,
     "metadata": {},
     "output_type": "execute_result"
    }
   ],
   "source": [
    "df_reviews.head(5)"
   ]
  },
  {
   "cell_type": "code",
   "execution_count": 6,
   "metadata": {},
   "outputs": [
    {
     "data": {
      "text/plain": [
       "listing_id       0.000000\n",
       "id               0.000000\n",
       "date             0.000000\n",
       "reviewer_id      0.000000\n",
       "reviewer_name    0.000000\n",
       "comments         0.000212\n",
       "dtype: float64"
      ]
     },
     "execution_count": 6,
     "metadata": {},
     "output_type": "execute_result"
    }
   ],
   "source": [
    "null_ratio_reviews = df_reviews.isnull().sum()/df_reviews.shape[0]\n",
    "null_ratio_reviews"
   ]
  },
  {
   "cell_type": "markdown",
   "metadata": {},
   "source": [
    "Here the percentage of people, who do not leave a comment is very low. It seems that most of the guests hasve always something to mention about their experience."
   ]
  },
  {
   "cell_type": "code",
   "execution_count": 7,
   "metadata": {},
   "outputs": [
    {
     "data": {
      "text/html": [
       "<div>\n",
       "<style scoped>\n",
       "    .dataframe tbody tr th:only-of-type {\n",
       "        vertical-align: middle;\n",
       "    }\n",
       "\n",
       "    .dataframe tbody tr th {\n",
       "        vertical-align: top;\n",
       "    }\n",
       "\n",
       "    .dataframe thead th {\n",
       "        text-align: right;\n",
       "    }\n",
       "</style>\n",
       "<table border=\"1\" class=\"dataframe\">\n",
       "  <thead>\n",
       "    <tr style=\"text-align: right;\">\n",
       "      <th></th>\n",
       "      <th>id</th>\n",
       "      <th>listing_url</th>\n",
       "      <th>scrape_id</th>\n",
       "      <th>last_scraped</th>\n",
       "      <th>name</th>\n",
       "      <th>summary</th>\n",
       "      <th>space</th>\n",
       "      <th>description</th>\n",
       "      <th>experiences_offered</th>\n",
       "      <th>neighborhood_overview</th>\n",
       "      <th>...</th>\n",
       "      <th>review_scores_value</th>\n",
       "      <th>requires_license</th>\n",
       "      <th>license</th>\n",
       "      <th>jurisdiction_names</th>\n",
       "      <th>instant_bookable</th>\n",
       "      <th>cancellation_policy</th>\n",
       "      <th>require_guest_profile_picture</th>\n",
       "      <th>require_guest_phone_verification</th>\n",
       "      <th>calculated_host_listings_count</th>\n",
       "      <th>reviews_per_month</th>\n",
       "    </tr>\n",
       "  </thead>\n",
       "  <tbody>\n",
       "    <tr>\n",
       "      <th>0</th>\n",
       "      <td>241032</td>\n",
       "      <td>https://www.airbnb.com/rooms/241032</td>\n",
       "      <td>20160104002432</td>\n",
       "      <td>2016-01-04</td>\n",
       "      <td>Stylish Queen Anne Apartment</td>\n",
       "      <td>NaN</td>\n",
       "      <td>Make your self at home in this charming one-be...</td>\n",
       "      <td>Make your self at home in this charming one-be...</td>\n",
       "      <td>none</td>\n",
       "      <td>NaN</td>\n",
       "      <td>...</td>\n",
       "      <td>10.0</td>\n",
       "      <td>f</td>\n",
       "      <td>NaN</td>\n",
       "      <td>WASHINGTON</td>\n",
       "      <td>f</td>\n",
       "      <td>moderate</td>\n",
       "      <td>f</td>\n",
       "      <td>f</td>\n",
       "      <td>2</td>\n",
       "      <td>4.07</td>\n",
       "    </tr>\n",
       "    <tr>\n",
       "      <th>1</th>\n",
       "      <td>953595</td>\n",
       "      <td>https://www.airbnb.com/rooms/953595</td>\n",
       "      <td>20160104002432</td>\n",
       "      <td>2016-01-04</td>\n",
       "      <td>Bright &amp; Airy Queen Anne Apartment</td>\n",
       "      <td>Chemically sensitive? We've removed the irrita...</td>\n",
       "      <td>Beautiful, hypoallergenic apartment in an extr...</td>\n",
       "      <td>Chemically sensitive? We've removed the irrita...</td>\n",
       "      <td>none</td>\n",
       "      <td>Queen Anne is a wonderful, truly functional vi...</td>\n",
       "      <td>...</td>\n",
       "      <td>10.0</td>\n",
       "      <td>f</td>\n",
       "      <td>NaN</td>\n",
       "      <td>WASHINGTON</td>\n",
       "      <td>f</td>\n",
       "      <td>strict</td>\n",
       "      <td>t</td>\n",
       "      <td>t</td>\n",
       "      <td>6</td>\n",
       "      <td>1.48</td>\n",
       "    </tr>\n",
       "    <tr>\n",
       "      <th>2</th>\n",
       "      <td>3308979</td>\n",
       "      <td>https://www.airbnb.com/rooms/3308979</td>\n",
       "      <td>20160104002432</td>\n",
       "      <td>2016-01-04</td>\n",
       "      <td>New Modern House-Amazing water view</td>\n",
       "      <td>New modern house built in 2013.  Spectacular s...</td>\n",
       "      <td>Our house is modern, light and fresh with a wa...</td>\n",
       "      <td>New modern house built in 2013.  Spectacular s...</td>\n",
       "      <td>none</td>\n",
       "      <td>Upper Queen Anne is a charming neighborhood fu...</td>\n",
       "      <td>...</td>\n",
       "      <td>10.0</td>\n",
       "      <td>f</td>\n",
       "      <td>NaN</td>\n",
       "      <td>WASHINGTON</td>\n",
       "      <td>f</td>\n",
       "      <td>strict</td>\n",
       "      <td>f</td>\n",
       "      <td>f</td>\n",
       "      <td>2</td>\n",
       "      <td>1.15</td>\n",
       "    </tr>\n",
       "    <tr>\n",
       "      <th>3</th>\n",
       "      <td>7421966</td>\n",
       "      <td>https://www.airbnb.com/rooms/7421966</td>\n",
       "      <td>20160104002432</td>\n",
       "      <td>2016-01-04</td>\n",
       "      <td>Queen Anne Chateau</td>\n",
       "      <td>A charming apartment that sits atop Queen Anne...</td>\n",
       "      <td>NaN</td>\n",
       "      <td>A charming apartment that sits atop Queen Anne...</td>\n",
       "      <td>none</td>\n",
       "      <td>NaN</td>\n",
       "      <td>...</td>\n",
       "      <td>NaN</td>\n",
       "      <td>f</td>\n",
       "      <td>NaN</td>\n",
       "      <td>WASHINGTON</td>\n",
       "      <td>f</td>\n",
       "      <td>flexible</td>\n",
       "      <td>f</td>\n",
       "      <td>f</td>\n",
       "      <td>1</td>\n",
       "      <td>NaN</td>\n",
       "    </tr>\n",
       "    <tr>\n",
       "      <th>4</th>\n",
       "      <td>278830</td>\n",
       "      <td>https://www.airbnb.com/rooms/278830</td>\n",
       "      <td>20160104002432</td>\n",
       "      <td>2016-01-04</td>\n",
       "      <td>Charming craftsman 3 bdm house</td>\n",
       "      <td>Cozy family craftman house in beautiful neighb...</td>\n",
       "      <td>Cozy family craftman house in beautiful neighb...</td>\n",
       "      <td>Cozy family craftman house in beautiful neighb...</td>\n",
       "      <td>none</td>\n",
       "      <td>We are in the beautiful neighborhood of Queen ...</td>\n",
       "      <td>...</td>\n",
       "      <td>9.0</td>\n",
       "      <td>f</td>\n",
       "      <td>NaN</td>\n",
       "      <td>WASHINGTON</td>\n",
       "      <td>f</td>\n",
       "      <td>strict</td>\n",
       "      <td>f</td>\n",
       "      <td>f</td>\n",
       "      <td>1</td>\n",
       "      <td>0.89</td>\n",
       "    </tr>\n",
       "  </tbody>\n",
       "</table>\n",
       "<p>5 rows × 92 columns</p>\n",
       "</div>"
      ],
      "text/plain": [
       "        id                           listing_url       scrape_id last_scraped  \\\n",
       "0   241032   https://www.airbnb.com/rooms/241032  20160104002432   2016-01-04   \n",
       "1   953595   https://www.airbnb.com/rooms/953595  20160104002432   2016-01-04   \n",
       "2  3308979  https://www.airbnb.com/rooms/3308979  20160104002432   2016-01-04   \n",
       "3  7421966  https://www.airbnb.com/rooms/7421966  20160104002432   2016-01-04   \n",
       "4   278830   https://www.airbnb.com/rooms/278830  20160104002432   2016-01-04   \n",
       "\n",
       "                                  name  \\\n",
       "0         Stylish Queen Anne Apartment   \n",
       "1   Bright & Airy Queen Anne Apartment   \n",
       "2  New Modern House-Amazing water view   \n",
       "3                   Queen Anne Chateau   \n",
       "4       Charming craftsman 3 bdm house   \n",
       "\n",
       "                                             summary  \\\n",
       "0                                                NaN   \n",
       "1  Chemically sensitive? We've removed the irrita...   \n",
       "2  New modern house built in 2013.  Spectacular s...   \n",
       "3  A charming apartment that sits atop Queen Anne...   \n",
       "4  Cozy family craftman house in beautiful neighb...   \n",
       "\n",
       "                                               space  \\\n",
       "0  Make your self at home in this charming one-be...   \n",
       "1  Beautiful, hypoallergenic apartment in an extr...   \n",
       "2  Our house is modern, light and fresh with a wa...   \n",
       "3                                                NaN   \n",
       "4  Cozy family craftman house in beautiful neighb...   \n",
       "\n",
       "                                         description experiences_offered  \\\n",
       "0  Make your self at home in this charming one-be...                none   \n",
       "1  Chemically sensitive? We've removed the irrita...                none   \n",
       "2  New modern house built in 2013.  Spectacular s...                none   \n",
       "3  A charming apartment that sits atop Queen Anne...                none   \n",
       "4  Cozy family craftman house in beautiful neighb...                none   \n",
       "\n",
       "                               neighborhood_overview  ... review_scores_value  \\\n",
       "0                                                NaN  ...                10.0   \n",
       "1  Queen Anne is a wonderful, truly functional vi...  ...                10.0   \n",
       "2  Upper Queen Anne is a charming neighborhood fu...  ...                10.0   \n",
       "3                                                NaN  ...                 NaN   \n",
       "4  We are in the beautiful neighborhood of Queen ...  ...                 9.0   \n",
       "\n",
       "  requires_license license jurisdiction_names instant_bookable  \\\n",
       "0                f     NaN         WASHINGTON                f   \n",
       "1                f     NaN         WASHINGTON                f   \n",
       "2                f     NaN         WASHINGTON                f   \n",
       "3                f     NaN         WASHINGTON                f   \n",
       "4                f     NaN         WASHINGTON                f   \n",
       "\n",
       "  cancellation_policy  require_guest_profile_picture  \\\n",
       "0            moderate                              f   \n",
       "1              strict                              t   \n",
       "2              strict                              f   \n",
       "3            flexible                              f   \n",
       "4              strict                              f   \n",
       "\n",
       "  require_guest_phone_verification calculated_host_listings_count  \\\n",
       "0                                f                              2   \n",
       "1                                t                              6   \n",
       "2                                f                              2   \n",
       "3                                f                              1   \n",
       "4                                f                              1   \n",
       "\n",
       "  reviews_per_month  \n",
       "0              4.07  \n",
       "1              1.48  \n",
       "2              1.15  \n",
       "3               NaN  \n",
       "4              0.89  \n",
       "\n",
       "[5 rows x 92 columns]"
      ]
     },
     "execution_count": 7,
     "metadata": {},
     "output_type": "execute_result"
    }
   ],
   "source": [
    "df_listings.head(5)"
   ]
  },
  {
   "cell_type": "code",
   "execution_count": 32,
   "metadata": {},
   "outputs": [
    {
     "data": {
      "text/plain": [
       "license                             1.000000\n",
       "square_feet                         0.974594\n",
       "monthly_price                       0.602672\n",
       "security_deposit                    0.511262\n",
       "weekly_price                        0.473808\n",
       "notes                               0.420639\n",
       "neighborhood_overview               0.270299\n",
       "cleaning_fee                        0.269775\n",
       "transit                             0.244631\n",
       "host_about                          0.224987\n",
       "host_acceptance_rate                0.202462\n",
       "review_scores_accuracy              0.172342\n",
       "review_scores_checkin               0.172342\n",
       "review_scores_value                 0.171818\n",
       "review_scores_location              0.171556\n",
       "review_scores_cleanliness           0.171032\n",
       "review_scores_communication         0.170508\n",
       "review_scores_rating                0.169460\n",
       "reviews_per_month                   0.164222\n",
       "first_review                        0.164222\n",
       "last_review                         0.164222\n",
       "space                               0.149031\n",
       "host_response_time                  0.136983\n",
       "host_response_rate                  0.136983\n",
       "neighbourhood                       0.108958\n",
       "xl_picture_url                      0.083814\n",
       "thumbnail_url                       0.083814\n",
       "medium_url                          0.083814\n",
       "host_neighbourhood                  0.078575\n",
       "summary                             0.046359\n",
       "bathrooms                           0.004191\n",
       "host_location                       0.002095\n",
       "zipcode                             0.001833\n",
       "bedrooms                            0.001572\n",
       "host_identity_verified              0.000524\n",
       "host_has_profile_pic                0.000524\n",
       "host_picture_url                    0.000524\n",
       "host_since                          0.000524\n",
       "host_total_listings_count           0.000524\n",
       "host_listings_count                 0.000524\n",
       "host_thumbnail_url                  0.000524\n",
       "host_name                           0.000524\n",
       "host_is_superhost                   0.000524\n",
       "beds                                0.000262\n",
       "property_type                       0.000262\n",
       "host_verifications                  0.000000\n",
       "host_url                            0.000000\n",
       "host_id                             0.000000\n",
       "picture_url                         0.000000\n",
       "experiences_offered                 0.000000\n",
       "description                         0.000000\n",
       "name                                0.000000\n",
       "last_scraped                        0.000000\n",
       "scrape_id                           0.000000\n",
       "listing_url                         0.000000\n",
       "street                              0.000000\n",
       "latitude                            0.000000\n",
       "neighbourhood_cleansed              0.000000\n",
       "calendar_last_scraped               0.000000\n",
       "calendar_updated                    0.000000\n",
       "has_availability                    0.000000\n",
       "availability_30                     0.000000\n",
       "availability_60                     0.000000\n",
       "availability_90                     0.000000\n",
       "availability_365                    0.000000\n",
       "number_of_reviews                   0.000000\n",
       "minimum_nights                      0.000000\n",
       "requires_license                    0.000000\n",
       "jurisdiction_names                  0.000000\n",
       "instant_bookable                    0.000000\n",
       "cancellation_policy                 0.000000\n",
       "require_guest_profile_picture       0.000000\n",
       "require_guest_phone_verification    0.000000\n",
       "maximum_nights                      0.000000\n",
       "extra_people                        0.000000\n",
       "neighbourhood_group_cleansed        0.000000\n",
       "calculated_host_listings_count      0.000000\n",
       "city                                0.000000\n",
       "state                               0.000000\n",
       "market                              0.000000\n",
       "smart_location                      0.000000\n",
       "country_code                        0.000000\n",
       "country                             0.000000\n",
       "longitude                           0.000000\n",
       "guests_included                     0.000000\n",
       "is_location_exact                   0.000000\n",
       "room_type                           0.000000\n",
       "accommodates                        0.000000\n",
       "bed_type                            0.000000\n",
       "amenities                           0.000000\n",
       "price                               0.000000\n",
       "id                                  0.000000\n",
       "dtype: float64"
      ]
     },
     "execution_count": 32,
     "metadata": {},
     "output_type": "execute_result"
    }
   ],
   "source": [
    "pd.set_option('display.max_rows', 92)\n",
    "null_ratio_listings = df_listings.isnull().sum()/df_listings.shape[0]\n",
    "null_ratio_listings.sort_values(ascending=False)"
   ]
  },
  {
   "cell_type": "code",
   "execution_count": 9,
   "metadata": {},
   "outputs": [
    {
     "data": {
      "text/plain": [
       "{'accommodates',\n",
       " 'amenities',\n",
       " 'availability_30',\n",
       " 'availability_365',\n",
       " 'availability_60',\n",
       " 'availability_90',\n",
       " 'bed_type',\n",
       " 'calculated_host_listings_count',\n",
       " 'calendar_last_scraped',\n",
       " 'calendar_updated',\n",
       " 'cancellation_policy',\n",
       " 'city',\n",
       " 'country',\n",
       " 'country_code',\n",
       " 'description',\n",
       " 'experiences_offered',\n",
       " 'extra_people',\n",
       " 'guests_included',\n",
       " 'has_availability',\n",
       " 'host_id',\n",
       " 'host_url',\n",
       " 'host_verifications',\n",
       " 'id',\n",
       " 'instant_bookable',\n",
       " 'is_location_exact',\n",
       " 'jurisdiction_names',\n",
       " 'last_scraped',\n",
       " 'latitude',\n",
       " 'listing_url',\n",
       " 'longitude',\n",
       " 'market',\n",
       " 'maximum_nights',\n",
       " 'minimum_nights',\n",
       " 'name',\n",
       " 'neighbourhood_cleansed',\n",
       " 'neighbourhood_group_cleansed',\n",
       " 'number_of_reviews',\n",
       " 'picture_url',\n",
       " 'price',\n",
       " 'require_guest_phone_verification',\n",
       " 'require_guest_profile_picture',\n",
       " 'requires_license',\n",
       " 'room_type',\n",
       " 'scrape_id',\n",
       " 'smart_location',\n",
       " 'state',\n",
       " 'street'}"
      ]
     },
     "execution_count": 9,
     "metadata": {},
     "output_type": "execute_result"
    }
   ],
   "source": [
    "# For the listings data, I get more curious and I would like to know, how many columns do not have null values?\n",
    "no_null_listings = set(df_listings.columns[df_listings.isnull().mean()==0])\n",
    "no_null_listings"
   ]
  },
  {
   "cell_type": "markdown",
   "metadata": {},
   "source": [
    "This is great and simplify our work since we can use only the listings dataframe to answer most of our business questions."
   ]
  },
  {
   "cell_type": "markdown",
   "metadata": {},
   "source": [
    "### Data Preparation & Questions\n",
    "\n",
    "The first set of questions 1-4 will be answered while we prepare the data and later in order to answer the last question. It is important to move into the modeling in the next section."
   ]
  },
  {
   "cell_type": "markdown",
   "metadata": {},
   "source": [
    "#### What is the price relation between room type and suburb of the city?"
   ]
  },
  {
   "cell_type": "code",
   "execution_count": 94,
   "metadata": {},
   "outputs": [
    {
     "data": {
      "text/plain": [
       "<matplotlib.axes._subplots.AxesSubplot at 0x1a391d51d0>"
      ]
     },
     "execution_count": 94,
     "metadata": {},
     "output_type": "execute_result"
    },
    {
     "name": "stderr",
     "output_type": "stream",
     "text": [
      "/Users/pepe/anaconda3/envs/python3_new/lib/python3.7/site-packages/matplotlib/backends/backend_agg.py:211: RuntimeWarning: Glyph 35199 missing from current font.\n",
      "  font.set_text(s, 0.0, flags=flags)\n",
      "/Users/pepe/anaconda3/envs/python3_new/lib/python3.7/site-packages/matplotlib/backends/backend_agg.py:211: RuntimeWarning: Glyph 38597 missing from current font.\n",
      "  font.set_text(s, 0.0, flags=flags)\n",
      "/Users/pepe/anaconda3/envs/python3_new/lib/python3.7/site-packages/matplotlib/backends/backend_agg.py:211: RuntimeWarning: Glyph 22270 missing from current font.\n",
      "  font.set_text(s, 0.0, flags=flags)\n",
      "/Users/pepe/anaconda3/envs/python3_new/lib/python3.7/site-packages/matplotlib/backends/backend_agg.py:180: RuntimeWarning: Glyph 35199 missing from current font.\n",
      "  font.set_text(s, 0, flags=flags)\n",
      "/Users/pepe/anaconda3/envs/python3_new/lib/python3.7/site-packages/matplotlib/backends/backend_agg.py:180: RuntimeWarning: Glyph 38597 missing from current font.\n",
      "  font.set_text(s, 0, flags=flags)\n",
      "/Users/pepe/anaconda3/envs/python3_new/lib/python3.7/site-packages/matplotlib/backends/backend_agg.py:180: RuntimeWarning: Glyph 22270 missing from current font.\n",
      "  font.set_text(s, 0, flags=flags)\n"
     ]
    },
    {
     "data": {
      "image/png": "[encoded data removed]",
      "text/plain": [
       "<Figure size 1152x432 with 1 Axes>"
      ]
     },
     "metadata": {
      "needs_background": "light"
     },
     "output_type": "display_data"
    }
   ],
   "source": [
    "df_listings['price'] = df_listings['price'].replace(r'[$,%]', '', regex = True).astype(float)\n",
    "plt.figure(figsize=(16, 6))\n",
    "sns.barplot(x=\"city\", y=\"price\", hue=\"room_type\", data=df_listings)"
   ]
  },
  {
   "cell_type": "markdown",
   "metadata": {},
   "source": [
    "In general Seattle city and Seattle are the locations in which the major appartment concentration is located. It is quite inresting to see that the offer for shared rooms is very limited. Which implies that privacy is important."
   ]
  },
  {
   "cell_type": "code",
   "execution_count": 11,
   "metadata": {},
   "outputs": [
    {
     "data": {
      "text/html": [
       "<div>\n",
       "<style scoped>\n",
       "    .dataframe tbody tr th:only-of-type {\n",
       "        vertical-align: middle;\n",
       "    }\n",
       "\n",
       "    .dataframe tbody tr th {\n",
       "        vertical-align: top;\n",
       "    }\n",
       "\n",
       "    .dataframe thead th {\n",
       "        text-align: right;\n",
       "    }\n",
       "</style>\n",
       "<table border=\"1\" class=\"dataframe\">\n",
       "  <thead>\n",
       "    <tr style=\"text-align: right;\">\n",
       "      <th></th>\n",
       "      <th>id</th>\n",
       "      <th>listing_url</th>\n",
       "      <th>scrape_id</th>\n",
       "      <th>last_scraped</th>\n",
       "      <th>name</th>\n",
       "      <th>summary</th>\n",
       "      <th>space</th>\n",
       "      <th>description</th>\n",
       "      <th>experiences_offered</th>\n",
       "      <th>neighborhood_overview</th>\n",
       "      <th>...</th>\n",
       "      <th>review_scores_value</th>\n",
       "      <th>requires_license</th>\n",
       "      <th>license</th>\n",
       "      <th>jurisdiction_names</th>\n",
       "      <th>instant_bookable</th>\n",
       "      <th>cancellation_policy</th>\n",
       "      <th>require_guest_profile_picture</th>\n",
       "      <th>require_guest_phone_verification</th>\n",
       "      <th>calculated_host_listings_count</th>\n",
       "      <th>reviews_per_month</th>\n",
       "    </tr>\n",
       "    <tr>\n",
       "      <th>city</th>\n",
       "      <th></th>\n",
       "      <th></th>\n",
       "      <th></th>\n",
       "      <th></th>\n",
       "      <th></th>\n",
       "      <th></th>\n",
       "      <th></th>\n",
       "      <th></th>\n",
       "      <th></th>\n",
       "      <th></th>\n",
       "      <th></th>\n",
       "      <th></th>\n",
       "      <th></th>\n",
       "      <th></th>\n",
       "      <th></th>\n",
       "      <th></th>\n",
       "      <th></th>\n",
       "      <th></th>\n",
       "      <th></th>\n",
       "      <th></th>\n",
       "      <th></th>\n",
       "    </tr>\n",
       "  </thead>\n",
       "  <tbody>\n",
       "    <tr>\n",
       "      <th>Ballard, Seattle</th>\n",
       "      <td>1</td>\n",
       "      <td>1</td>\n",
       "      <td>1</td>\n",
       "      <td>1</td>\n",
       "      <td>1</td>\n",
       "      <td>1</td>\n",
       "      <td>1</td>\n",
       "      <td>1</td>\n",
       "      <td>1</td>\n",
       "      <td>1</td>\n",
       "      <td>...</td>\n",
       "      <td>1</td>\n",
       "      <td>1</td>\n",
       "      <td>0</td>\n",
       "      <td>1</td>\n",
       "      <td>1</td>\n",
       "      <td>1</td>\n",
       "      <td>1</td>\n",
       "      <td>1</td>\n",
       "      <td>1</td>\n",
       "      <td>1</td>\n",
       "    </tr>\n",
       "    <tr>\n",
       "      <th>Phinney Ridge Seattle</th>\n",
       "      <td>1</td>\n",
       "      <td>1</td>\n",
       "      <td>1</td>\n",
       "      <td>1</td>\n",
       "      <td>1</td>\n",
       "      <td>1</td>\n",
       "      <td>1</td>\n",
       "      <td>1</td>\n",
       "      <td>1</td>\n",
       "      <td>1</td>\n",
       "      <td>...</td>\n",
       "      <td>1</td>\n",
       "      <td>1</td>\n",
       "      <td>0</td>\n",
       "      <td>1</td>\n",
       "      <td>1</td>\n",
       "      <td>1</td>\n",
       "      <td>1</td>\n",
       "      <td>1</td>\n",
       "      <td>1</td>\n",
       "      <td>1</td>\n",
       "    </tr>\n",
       "    <tr>\n",
       "      <th>Seattle</th>\n",
       "      <td>3810</td>\n",
       "      <td>3810</td>\n",
       "      <td>3810</td>\n",
       "      <td>3810</td>\n",
       "      <td>3810</td>\n",
       "      <td>3633</td>\n",
       "      <td>3243</td>\n",
       "      <td>3810</td>\n",
       "      <td>3810</td>\n",
       "      <td>2779</td>\n",
       "      <td>...</td>\n",
       "      <td>3155</td>\n",
       "      <td>3810</td>\n",
       "      <td>0</td>\n",
       "      <td>3810</td>\n",
       "      <td>3810</td>\n",
       "      <td>3810</td>\n",
       "      <td>3810</td>\n",
       "      <td>3810</td>\n",
       "      <td>3810</td>\n",
       "      <td>3184</td>\n",
       "    </tr>\n",
       "    <tr>\n",
       "      <th>Seattle</th>\n",
       "      <td>2</td>\n",
       "      <td>2</td>\n",
       "      <td>2</td>\n",
       "      <td>2</td>\n",
       "      <td>2</td>\n",
       "      <td>2</td>\n",
       "      <td>1</td>\n",
       "      <td>2</td>\n",
       "      <td>2</td>\n",
       "      <td>2</td>\n",
       "      <td>...</td>\n",
       "      <td>2</td>\n",
       "      <td>2</td>\n",
       "      <td>0</td>\n",
       "      <td>2</td>\n",
       "      <td>2</td>\n",
       "      <td>2</td>\n",
       "      <td>2</td>\n",
       "      <td>2</td>\n",
       "      <td>2</td>\n",
       "      <td>2</td>\n",
       "    </tr>\n",
       "    <tr>\n",
       "      <th>West Seattle</th>\n",
       "      <td>2</td>\n",
       "      <td>2</td>\n",
       "      <td>2</td>\n",
       "      <td>2</td>\n",
       "      <td>2</td>\n",
       "      <td>2</td>\n",
       "      <td>2</td>\n",
       "      <td>2</td>\n",
       "      <td>2</td>\n",
       "      <td>2</td>\n",
       "      <td>...</td>\n",
       "      <td>2</td>\n",
       "      <td>2</td>\n",
       "      <td>0</td>\n",
       "      <td>2</td>\n",
       "      <td>2</td>\n",
       "      <td>2</td>\n",
       "      <td>2</td>\n",
       "      <td>2</td>\n",
       "      <td>2</td>\n",
       "      <td>2</td>\n",
       "    </tr>\n",
       "    <tr>\n",
       "      <th>seattle</th>\n",
       "      <td>1</td>\n",
       "      <td>1</td>\n",
       "      <td>1</td>\n",
       "      <td>1</td>\n",
       "      <td>1</td>\n",
       "      <td>1</td>\n",
       "      <td>0</td>\n",
       "      <td>1</td>\n",
       "      <td>1</td>\n",
       "      <td>0</td>\n",
       "      <td>...</td>\n",
       "      <td>0</td>\n",
       "      <td>1</td>\n",
       "      <td>0</td>\n",
       "      <td>1</td>\n",
       "      <td>1</td>\n",
       "      <td>1</td>\n",
       "      <td>1</td>\n",
       "      <td>1</td>\n",
       "      <td>1</td>\n",
       "      <td>0</td>\n",
       "    </tr>\n",
       "    <tr>\n",
       "      <th>西雅图</th>\n",
       "      <td>1</td>\n",
       "      <td>1</td>\n",
       "      <td>1</td>\n",
       "      <td>1</td>\n",
       "      <td>1</td>\n",
       "      <td>1</td>\n",
       "      <td>1</td>\n",
       "      <td>1</td>\n",
       "      <td>1</td>\n",
       "      <td>1</td>\n",
       "      <td>...</td>\n",
       "      <td>1</td>\n",
       "      <td>1</td>\n",
       "      <td>0</td>\n",
       "      <td>1</td>\n",
       "      <td>1</td>\n",
       "      <td>1</td>\n",
       "      <td>1</td>\n",
       "      <td>1</td>\n",
       "      <td>1</td>\n",
       "      <td>1</td>\n",
       "    </tr>\n",
       "  </tbody>\n",
       "</table>\n",
       "<p>7 rows × 91 columns</p>\n",
       "</div>"
      ],
      "text/plain": [
       "                         id  listing_url  scrape_id  last_scraped  name  \\\n",
       "city                                                                      \n",
       "Ballard, Seattle          1            1          1             1     1   \n",
       "Phinney Ridge Seattle     1            1          1             1     1   \n",
       "Seattle                3810         3810       3810          3810  3810   \n",
       "Seattle                   2            2          2             2     2   \n",
       "West Seattle              2            2          2             2     2   \n",
       "seattle                   1            1          1             1     1   \n",
       "西雅图                       1            1          1             1     1   \n",
       "\n",
       "                       summary  space  description  experiences_offered  \\\n",
       "city                                                                      \n",
       "Ballard, Seattle             1      1            1                    1   \n",
       "Phinney Ridge Seattle        1      1            1                    1   \n",
       "Seattle                   3633   3243         3810                 3810   \n",
       "Seattle                      2      1            2                    2   \n",
       "West Seattle                 2      2            2                    2   \n",
       "seattle                      1      0            1                    1   \n",
       "西雅图                          1      1            1                    1   \n",
       "\n",
       "                       neighborhood_overview  ...  review_scores_value  \\\n",
       "city                                          ...                        \n",
       "Ballard, Seattle                           1  ...                    1   \n",
       "Phinney Ridge Seattle                      1  ...                    1   \n",
       "Seattle                                 2779  ...                 3155   \n",
       "Seattle                                    2  ...                    2   \n",
       "West Seattle                               2  ...                    2   \n",
       "seattle                                    0  ...                    0   \n",
       "西雅图                                        1  ...                    1   \n",
       "\n",
       "                       requires_license  license  jurisdiction_names  \\\n",
       "city                                                                   \n",
       "Ballard, Seattle                      1        0                   1   \n",
       "Phinney Ridge Seattle                 1        0                   1   \n",
       "Seattle                            3810        0                3810   \n",
       "Seattle                               2        0                   2   \n",
       "West Seattle                          2        0                   2   \n",
       "seattle                               1        0                   1   \n",
       "西雅图                                   1        0                   1   \n",
       "\n",
       "                       instant_bookable  cancellation_policy  \\\n",
       "city                                                           \n",
       "Ballard, Seattle                      1                    1   \n",
       "Phinney Ridge Seattle                 1                    1   \n",
       "Seattle                            3810                 3810   \n",
       "Seattle                               2                    2   \n",
       "West Seattle                          2                    2   \n",
       "seattle                               1                    1   \n",
       "西雅图                                   1                    1   \n",
       "\n",
       "                       require_guest_profile_picture  \\\n",
       "city                                                   \n",
       "Ballard, Seattle                                   1   \n",
       "Phinney Ridge Seattle                              1   \n",
       "Seattle                                         3810   \n",
       "Seattle                                            2   \n",
       "West Seattle                                       2   \n",
       "seattle                                            1   \n",
       "西雅图                                                1   \n",
       "\n",
       "                       require_guest_phone_verification  \\\n",
       "city                                                      \n",
       "Ballard, Seattle                                      1   \n",
       "Phinney Ridge Seattle                                 1   \n",
       "Seattle                                            3810   \n",
       "Seattle                                               2   \n",
       "West Seattle                                          2   \n",
       "seattle                                               1   \n",
       "西雅图                                                   1   \n",
       "\n",
       "                       calculated_host_listings_count  reviews_per_month  \n",
       "city                                                                      \n",
       "Ballard, Seattle                                    1                  1  \n",
       "Phinney Ridge Seattle                               1                  1  \n",
       "Seattle                                          3810               3184  \n",
       "Seattle                                             2                  2  \n",
       "West Seattle                                        2                  2  \n",
       "seattle                                             1                  0  \n",
       "西雅图                                                 1                  1  \n",
       "\n",
       "[7 rows x 91 columns]"
      ]
     },
     "execution_count": 11,
     "metadata": {},
     "output_type": "execute_result"
    }
   ],
   "source": [
    "# What is the place with special characters?\n",
    "df_listings.groupby('city').count()\n",
    "\n",
    "# It is 西雅图 = Seattle in chinesse"
   ]
  },
  {
   "cell_type": "markdown",
   "metadata": {},
   "source": [
    "It seems that there is a very small niche for only chinesse speakers"
   ]
  },
  {
   "cell_type": "markdown",
   "metadata": {},
   "source": [
    "#### Is there a price difference between room type and bed type?"
   ]
  },
  {
   "cell_type": "code",
   "execution_count": 102,
   "metadata": {
    "scrolled": true
   },
   "outputs": [
    {
     "data": {
      "text/plain": [
       "<matplotlib.axes._subplots.AxesSubplot at 0x1a37d51c50>"
      ]
     },
     "execution_count": 102,
     "metadata": {},
     "output_type": "execute_result"
    },
    {
     "data": {
      "image/png": "[encoded data removed]",
      "text/plain": [
       "<Figure size 1152x360 with 1 Axes>"
      ]
     },
     "metadata": {
      "needs_background": "light"
     },
     "output_type": "display_data"
    }
   ],
   "source": [
    "plt.figure(figsize=(16, 5))\n",
    "sns.barplot(x=\"room_type\", y=\"price\", hue=\"bed_type\", data=df_listings)"
   ]
  },
  {
   "cell_type": "markdown",
   "metadata": {},
   "source": [
    "There is not a significant difference between the bed material and the room type. Couch and real bed in appartments do not have any significant difference in price. This may indicates that the price is not driven by the bed quality."
   ]
  },
  {
   "cell_type": "markdown",
   "metadata": {},
   "source": [
    "#### Are the number of bathrooms or bedrooms important perks to influence the price?"
   ]
  },
  {
   "cell_type": "code",
   "execution_count": 70,
   "metadata": {},
   "outputs": [
    {
     "data": {
      "text/plain": [
       "<matplotlib.axes._subplots.AxesSubplot at 0x1a3a993410>"
      ]
     },
     "execution_count": 70,
     "metadata": {},
     "output_type": "execute_result"
    },
    {
     "data": {
      "image/png": "[encoded data removed]",
      "text/plain": [
       "<Figure size 1152x432 with 1 Axes>"
      ]
     },
     "metadata": {
      "needs_background": "light"
     },
     "output_type": "display_data"
    }
   ],
   "source": [
    "plt.figure(figsize=(16, 6))\n",
    "sns.barplot(x=\"room_type\", y=\"price\", hue=\"bathrooms\", data=df_listings)"
   ]
  },
  {
   "cell_type": "code",
   "execution_count": 71,
   "metadata": {},
   "outputs": [
    {
     "data": {
      "text/plain": [
       "<matplotlib.axes._subplots.AxesSubplot at 0x1a3ac61fd0>"
      ]
     },
     "execution_count": 71,
     "metadata": {},
     "output_type": "execute_result"
    },
    {
     "data": {
      "image/png": "[encoded data removed]",
      "text/plain": [
       "<Figure size 1152x432 with 1 Axes>"
      ]
     },
     "metadata": {
      "needs_background": "light"
     },
     "output_type": "display_data"
    }
   ],
   "source": [
    "plt.figure(figsize=(16, 6))\n",
    "sns.barplot(x=\"room_type\", y=\"price\", hue=\"bedrooms\", data=df_listings)"
   ]
  },
  {
   "cell_type": "markdown",
   "metadata": {},
   "source": [
    "It seems that there is a high correlation between the number of bedrooms and bathrooms, It is significant in the entire home/apt category."
   ]
  },
  {
   "cell_type": "markdown",
   "metadata": {},
   "source": [
    "#### What is the proportion of min and max nights offered in the Seattle Airbnb market? (Bonus)"
   ]
  },
  {
   "cell_type": "code",
   "execution_count": 37,
   "metadata": {},
   "outputs": [
    {
     "data": {
      "text/plain": [
       "<matplotlib.axes._subplots.AxesSubplot at 0x1a2ea53f10>"
      ]
     },
     "execution_count": 37,
     "metadata": {},
     "output_type": "execute_result"
    },
    {
     "data": {
      "image/png": "[encoded data removed]",
      "text/plain": [
       "<Figure size 1152x432 with 1 Axes>"
      ]
     },
     "metadata": {
      "needs_background": "light"
     },
     "output_type": "display_data"
    }
   ],
   "source": [
    "plt.figure(figsize=(16, 6))\n",
    "sns.barplot(x=\"minimum_nights\", y=\"price\", hue=\"room_type\", data=df_listings)"
   ]
  },
  {
   "cell_type": "markdown",
   "metadata": {},
   "source": [
    "There not a clear pattern of min recommended number of nights"
   ]
  },
  {
   "cell_type": "markdown",
   "metadata": {},
   "source": [
    "#### Price vs Guest included by room type"
   ]
  },
  {
   "cell_type": "code",
   "execution_count": 35,
   "metadata": {},
   "outputs": [
    {
     "data": {
      "text/plain": [
       "<matplotlib.axes._subplots.AxesSubplot at 0x1a2fcb1050>"
      ]
     },
     "execution_count": 35,
     "metadata": {},
     "output_type": "execute_result"
    },
    {
     "data": {
      "image/png": "[encoded data removed]",
      "text/plain": [
       "<Figure size 1152x432 with 1 Axes>"
      ]
     },
     "metadata": {
      "needs_background": "light"
     },
     "output_type": "display_data"
    }
   ],
   "source": [
    "plt.figure(figsize=(16, 6))\n",
    "sns.barplot(x=\"room_type\", y=\"price\", hue=\"guests_included\", data=df_listings)"
   ]
  },
  {
   "cell_type": "markdown",
   "metadata": {},
   "source": [
    "#### What are the room types most reviewed?"
   ]
  },
  {
   "cell_type": "code",
   "execution_count": 88,
   "metadata": {},
   "outputs": [
    {
     "data": {
      "text/plain": [
       "<matplotlib.axes._subplots.AxesSubplot at 0x1a3aef3c90>"
      ]
     },
     "execution_count": 88,
     "metadata": {},
     "output_type": "execute_result"
    },
    {
     "data": {
      "image/png": "[encoded data removed]",
      "text/plain": [
       "<Figure size 1152x432 with 1 Axes>"
      ]
     },
     "metadata": {
      "needs_background": "light"
     },
     "output_type": "display_data"
    }
   ],
   "source": [
    "plt.figure(figsize=(16, 6))\n",
    "sns.barplot(x=\"room_type\", y=\"number_of_reviews\", data=df_listings)"
   ]
  },
  {
   "cell_type": "code",
   "execution_count": 31,
   "metadata": {},
   "outputs": [
    {
     "data": {
      "text/plain": [
       "<matplotlib.axes._subplots.AxesSubplot at 0x1a30616f50>"
      ]
     },
     "execution_count": 31,
     "metadata": {},
     "output_type": "execute_result"
    },
    {
     "data": {
      "image/png": "[encoded data removed]",
      "text/plain": [
       "<Figure size 1152x432 with 1 Axes>"
      ]
     },
     "metadata": {
      "needs_background": "light"
     },
     "output_type": "display_data"
    }
   ],
   "source": [
    "amt = df_listings['amenities'].apply(lambda x: [amenity.replace('\"', \"\").replace(\"{\", \"\").replace(\"}\", \"\") \n",
    "                                               for amenity in x.split(\",\")])\n",
    "\n",
    "mlb = MultiLabelBinarizer()\n",
    "label_amt = pd.DataFrame(mlb.fit_transform(amt), columns=mlb.classes_, index=amt.index)\n",
    "\n",
    "amt_count=label_amt.sum().sort_values(ascending=False)\n",
    "\n",
    "d = {'Amenity': amt_count.index, 'Count': amt_count.values}\n",
    "df_amt_count = pd.DataFrame(data=d)\n",
    "\n",
    "plt.figure(figsize=(16, 6))\n",
    "sns.barplot(x=\"Amenity\", y=\"Count\", data=df_amt_count.head(10))"
   ]
  },
  {
   "cell_type": "markdown",
   "metadata": {},
   "source": [
    "Internet, Kitchen, heating, smoke detector and essentials are all that you need to feel at home and make some savings during a trip."
   ]
  },
  {
   "cell_type": "markdown",
   "metadata": {},
   "source": [
    "#### Price relation between instant bookable and room type"
   ]
  },
  {
   "cell_type": "code",
   "execution_count": 16,
   "metadata": {},
   "outputs": [
    {
     "data": {
      "text/plain": [
       "<matplotlib.axes._subplots.AxesSubplot at 0x1a1c12e7d0>"
      ]
     },
     "execution_count": 16,
     "metadata": {},
     "output_type": "execute_result"
    },
    {
     "data": {
      "image/png": "[encoded data removed]",
      "text/plain": [
       "<Figure size 1152x432 with 1 Axes>"
      ]
     },
     "metadata": {
      "needs_background": "light"
     },
     "output_type": "display_data"
    }
   ],
   "source": [
    "plt.figure(figsize=(16, 6))\n",
    "sns.barplot(x=\"room_type\", y=\"price\", hue=\"instant_bookable\", data=df_listings)"
   ]
  },
  {
   "cell_type": "markdown",
   "metadata": {},
   "source": [
    "There is not a significant difference. However, it seems that private rooms, which are not instant bookeble available are more expensive"
   ]
  },
  {
   "cell_type": "markdown",
   "metadata": {},
   "source": [
    "#### What months are cheaper to visit Seattle?"
   ]
  },
  {
   "cell_type": "code",
   "execution_count": 29,
   "metadata": {},
   "outputs": [
    {
     "data": {
      "text/plain": [
       "<matplotlib.axes._subplots.AxesSubplot at 0x1a2edd91d0>"
      ]
     },
     "execution_count": 29,
     "metadata": {},
     "output_type": "execute_result"
    },
    {
     "data": {
      "image/png": "[encoded data removed]",
      "text/plain": [
       "<Figure size 1152x432 with 1 Axes>"
      ]
     },
     "metadata": {
      "needs_background": "light"
     },
     "output_type": "display_data"
    }
   ],
   "source": [
    "df_calendar['month'] = pd.DatetimeIndex(df_calendar['date']).month\n",
    "df_calendar.dropna(subset=['price'], inplace=True)\n",
    "df_calendar['price'] = df_calendar['price'].replace(r'[$,%]', '', regex = True).astype(float)\n",
    "\n",
    "plt.figure(figsize=(16, 6))\n",
    "sns.lineplot(x=\"month\", y=\"price\",marker=\"o\", data=df_calendar)"
   ]
  },
  {
   "cell_type": "markdown",
   "metadata": {},
   "source": [
    "June, July and August are the most expensive months to visit Seattle"
   ]
  },
  {
   "cell_type": "markdown",
   "metadata": {},
   "source": [
    "####  What are features or characteristics that influence in the price of a room?\n",
    "\n",
    "In order to answer this question, we need to move forward and in this case use a simple linear regression to predict price values and depending of the features, the accuracy may increase or not."
   ]
  },
  {
   "cell_type": "markdown",
   "metadata": {},
   "source": [
    "### Modeling\n"
   ]
  },
  {
   "cell_type": "markdown",
   "metadata": {},
   "source": [
    "In order to have a simple approximation, I would based my featues based on review scores, section of the city, room type and number of bedrooms. I would for the moment discard features such as beds, bathrooms in order to see if we get some good feature representation to predict the price."
   ]
  },
  {
   "cell_type": "code",
   "execution_count": 97,
   "metadata": {},
   "outputs": [
    {
     "data": {
      "text/plain": [
       "(3152, 12)"
      ]
     },
     "execution_count": 97,
     "metadata": {},
     "output_type": "execute_result"
    }
   ],
   "source": [
    "features = ['city',\n",
    "            'price',\n",
    "            'room_type',\n",
    "            'bedrooms',\n",
    "            'review_scores_accuracy',\n",
    "            'review_scores_checkin',\n",
    "            'review_scores_value',\n",
    "            'review_scores_location',\n",
    "            'review_scores_cleanliness',\n",
    "            'review_scores_communication',\n",
    "            'review_scores_rating',\n",
    "            'reviews_per_month'\n",
    "           ]\n",
    "\n",
    "df_listings_reduced = df_listings[features]\n",
    "\n",
    "# The decision he is remove all the rows with NaN values and as we saw before, they represent fex incompete rows (~17.23%)\n",
    "df_listings_cleaned = df_listings_reduced.dropna()\n",
    "df_listings_cleaned.shape"
   ]
  },
  {
   "cell_type": "code",
   "execution_count": 80,
   "metadata": {},
   "outputs": [
    {
     "data": {
      "text/html": [
       "<div>\n",
       "<style scoped>\n",
       "    .dataframe tbody tr th:only-of-type {\n",
       "        vertical-align: middle;\n",
       "    }\n",
       "\n",
       "    .dataframe tbody tr th {\n",
       "        vertical-align: top;\n",
       "    }\n",
       "\n",
       "    .dataframe thead th {\n",
       "        text-align: right;\n",
       "    }\n",
       "</style>\n",
       "<table border=\"1\" class=\"dataframe\">\n",
       "  <thead>\n",
       "    <tr style=\"text-align: right;\">\n",
       "      <th></th>\n",
       "      <th>city</th>\n",
       "      <th>price</th>\n",
       "      <th>room_type</th>\n",
       "      <th>bedrooms</th>\n",
       "      <th>review_scores_accuracy</th>\n",
       "      <th>review_scores_checkin</th>\n",
       "      <th>review_scores_value</th>\n",
       "      <th>review_scores_location</th>\n",
       "      <th>review_scores_cleanliness</th>\n",
       "      <th>review_scores_communication</th>\n",
       "      <th>review_scores_rating</th>\n",
       "      <th>reviews_per_month</th>\n",
       "    </tr>\n",
       "  </thead>\n",
       "  <tbody>\n",
       "    <tr>\n",
       "      <th>0</th>\n",
       "      <td>Seattle</td>\n",
       "      <td>85.0</td>\n",
       "      <td>Entire home/apt</td>\n",
       "      <td>1.0</td>\n",
       "      <td>10.0</td>\n",
       "      <td>10.0</td>\n",
       "      <td>10.0</td>\n",
       "      <td>9.0</td>\n",
       "      <td>10.0</td>\n",
       "      <td>10.0</td>\n",
       "      <td>95.0</td>\n",
       "      <td>4.07</td>\n",
       "    </tr>\n",
       "    <tr>\n",
       "      <th>1</th>\n",
       "      <td>Seattle</td>\n",
       "      <td>150.0</td>\n",
       "      <td>Entire home/apt</td>\n",
       "      <td>1.0</td>\n",
       "      <td>10.0</td>\n",
       "      <td>10.0</td>\n",
       "      <td>10.0</td>\n",
       "      <td>10.0</td>\n",
       "      <td>10.0</td>\n",
       "      <td>10.0</td>\n",
       "      <td>96.0</td>\n",
       "      <td>1.48</td>\n",
       "    </tr>\n",
       "    <tr>\n",
       "      <th>2</th>\n",
       "      <td>Seattle</td>\n",
       "      <td>975.0</td>\n",
       "      <td>Entire home/apt</td>\n",
       "      <td>5.0</td>\n",
       "      <td>10.0</td>\n",
       "      <td>10.0</td>\n",
       "      <td>10.0</td>\n",
       "      <td>10.0</td>\n",
       "      <td>10.0</td>\n",
       "      <td>10.0</td>\n",
       "      <td>97.0</td>\n",
       "      <td>1.15</td>\n",
       "    </tr>\n",
       "    <tr>\n",
       "      <th>4</th>\n",
       "      <td>Seattle</td>\n",
       "      <td>450.0</td>\n",
       "      <td>Entire home/apt</td>\n",
       "      <td>3.0</td>\n",
       "      <td>9.0</td>\n",
       "      <td>10.0</td>\n",
       "      <td>9.0</td>\n",
       "      <td>9.0</td>\n",
       "      <td>9.0</td>\n",
       "      <td>10.0</td>\n",
       "      <td>92.0</td>\n",
       "      <td>0.89</td>\n",
       "    </tr>\n",
       "    <tr>\n",
       "      <th>5</th>\n",
       "      <td>Seattle</td>\n",
       "      <td>120.0</td>\n",
       "      <td>Private room</td>\n",
       "      <td>1.0</td>\n",
       "      <td>10.0</td>\n",
       "      <td>10.0</td>\n",
       "      <td>10.0</td>\n",
       "      <td>10.0</td>\n",
       "      <td>10.0</td>\n",
       "      <td>10.0</td>\n",
       "      <td>95.0</td>\n",
       "      <td>2.45</td>\n",
       "    </tr>\n",
       "  </tbody>\n",
       "</table>\n",
       "</div>"
      ],
      "text/plain": [
       "      city  price        room_type  bedrooms  review_scores_accuracy  \\\n",
       "0  Seattle   85.0  Entire home/apt       1.0                    10.0   \n",
       "1  Seattle  150.0  Entire home/apt       1.0                    10.0   \n",
       "2  Seattle  975.0  Entire home/apt       5.0                    10.0   \n",
       "4  Seattle  450.0  Entire home/apt       3.0                     9.0   \n",
       "5  Seattle  120.0     Private room       1.0                    10.0   \n",
       "\n",
       "   review_scores_checkin  review_scores_value  review_scores_location  \\\n",
       "0                   10.0                 10.0                     9.0   \n",
       "1                   10.0                 10.0                    10.0   \n",
       "2                   10.0                 10.0                    10.0   \n",
       "4                   10.0                  9.0                     9.0   \n",
       "5                   10.0                 10.0                    10.0   \n",
       "\n",
       "   review_scores_cleanliness  review_scores_communication  \\\n",
       "0                       10.0                         10.0   \n",
       "1                       10.0                         10.0   \n",
       "2                       10.0                         10.0   \n",
       "4                        9.0                         10.0   \n",
       "5                       10.0                         10.0   \n",
       "\n",
       "   review_scores_rating  reviews_per_month  \n",
       "0                  95.0               4.07  \n",
       "1                  96.0               1.48  \n",
       "2                  97.0               1.15  \n",
       "4                  92.0               0.89  \n",
       "5                  95.0               2.45  "
      ]
     },
     "execution_count": 80,
     "metadata": {},
     "output_type": "execute_result"
    }
   ],
   "source": [
    "df_listings_cleaned.head()"
   ]
  },
  {
   "cell_type": "code",
   "execution_count": 98,
   "metadata": {},
   "outputs": [
    {
     "data": {
      "text/html": [
       "<div>\n",
       "<style scoped>\n",
       "    .dataframe tbody tr th:only-of-type {\n",
       "        vertical-align: middle;\n",
       "    }\n",
       "\n",
       "    .dataframe tbody tr th {\n",
       "        vertical-align: top;\n",
       "    }\n",
       "\n",
       "    .dataframe thead th {\n",
       "        text-align: right;\n",
       "    }\n",
       "</style>\n",
       "<table border=\"1\" class=\"dataframe\">\n",
       "  <thead>\n",
       "    <tr style=\"text-align: right;\">\n",
       "      <th></th>\n",
       "      <th>price</th>\n",
       "      <th>bedrooms</th>\n",
       "      <th>review_scores_accuracy</th>\n",
       "      <th>review_scores_checkin</th>\n",
       "      <th>review_scores_value</th>\n",
       "      <th>review_scores_location</th>\n",
       "      <th>review_scores_cleanliness</th>\n",
       "      <th>review_scores_communication</th>\n",
       "      <th>review_scores_rating</th>\n",
       "      <th>reviews_per_month</th>\n",
       "      <th>city_Ballard, Seattle</th>\n",
       "      <th>city_Phinney Ridge Seattle</th>\n",
       "      <th>city_Seattle</th>\n",
       "      <th>city_Seattle</th>\n",
       "      <th>city_West Seattle</th>\n",
       "      <th>city_西雅图</th>\n",
       "      <th>room_type_Entire home/apt</th>\n",
       "      <th>room_type_Private room</th>\n",
       "      <th>room_type_Shared room</th>\n",
       "    </tr>\n",
       "  </thead>\n",
       "  <tbody>\n",
       "    <tr>\n",
       "      <th>0</th>\n",
       "      <td>85.0</td>\n",
       "      <td>1.0</td>\n",
       "      <td>10.0</td>\n",
       "      <td>10.0</td>\n",
       "      <td>10.0</td>\n",
       "      <td>9.0</td>\n",
       "      <td>10.0</td>\n",
       "      <td>10.0</td>\n",
       "      <td>95.0</td>\n",
       "      <td>4.07</td>\n",
       "      <td>0</td>\n",
       "      <td>0</td>\n",
       "      <td>1</td>\n",
       "      <td>0</td>\n",
       "      <td>0</td>\n",
       "      <td>0</td>\n",
       "      <td>1</td>\n",
       "      <td>0</td>\n",
       "      <td>0</td>\n",
       "    </tr>\n",
       "    <tr>\n",
       "      <th>1</th>\n",
       "      <td>150.0</td>\n",
       "      <td>1.0</td>\n",
       "      <td>10.0</td>\n",
       "      <td>10.0</td>\n",
       "      <td>10.0</td>\n",
       "      <td>10.0</td>\n",
       "      <td>10.0</td>\n",
       "      <td>10.0</td>\n",
       "      <td>96.0</td>\n",
       "      <td>1.48</td>\n",
       "      <td>0</td>\n",
       "      <td>0</td>\n",
       "      <td>1</td>\n",
       "      <td>0</td>\n",
       "      <td>0</td>\n",
       "      <td>0</td>\n",
       "      <td>1</td>\n",
       "      <td>0</td>\n",
       "      <td>0</td>\n",
       "    </tr>\n",
       "    <tr>\n",
       "      <th>2</th>\n",
       "      <td>975.0</td>\n",
       "      <td>5.0</td>\n",
       "      <td>10.0</td>\n",
       "      <td>10.0</td>\n",
       "      <td>10.0</td>\n",
       "      <td>10.0</td>\n",
       "      <td>10.0</td>\n",
       "      <td>10.0</td>\n",
       "      <td>97.0</td>\n",
       "      <td>1.15</td>\n",
       "      <td>0</td>\n",
       "      <td>0</td>\n",
       "      <td>1</td>\n",
       "      <td>0</td>\n",
       "      <td>0</td>\n",
       "      <td>0</td>\n",
       "      <td>1</td>\n",
       "      <td>0</td>\n",
       "      <td>0</td>\n",
       "    </tr>\n",
       "    <tr>\n",
       "      <th>4</th>\n",
       "      <td>450.0</td>\n",
       "      <td>3.0</td>\n",
       "      <td>9.0</td>\n",
       "      <td>10.0</td>\n",
       "      <td>9.0</td>\n",
       "      <td>9.0</td>\n",
       "      <td>9.0</td>\n",
       "      <td>10.0</td>\n",
       "      <td>92.0</td>\n",
       "      <td>0.89</td>\n",
       "      <td>0</td>\n",
       "      <td>0</td>\n",
       "      <td>1</td>\n",
       "      <td>0</td>\n",
       "      <td>0</td>\n",
       "      <td>0</td>\n",
       "      <td>1</td>\n",
       "      <td>0</td>\n",
       "      <td>0</td>\n",
       "    </tr>\n",
       "    <tr>\n",
       "      <th>5</th>\n",
       "      <td>120.0</td>\n",
       "      <td>1.0</td>\n",
       "      <td>10.0</td>\n",
       "      <td>10.0</td>\n",
       "      <td>10.0</td>\n",
       "      <td>10.0</td>\n",
       "      <td>10.0</td>\n",
       "      <td>10.0</td>\n",
       "      <td>95.0</td>\n",
       "      <td>2.45</td>\n",
       "      <td>0</td>\n",
       "      <td>0</td>\n",
       "      <td>1</td>\n",
       "      <td>0</td>\n",
       "      <td>0</td>\n",
       "      <td>0</td>\n",
       "      <td>0</td>\n",
       "      <td>1</td>\n",
       "      <td>0</td>\n",
       "    </tr>\n",
       "    <tr>\n",
       "      <th>...</th>\n",
       "      <td>...</td>\n",
       "      <td>...</td>\n",
       "      <td>...</td>\n",
       "      <td>...</td>\n",
       "      <td>...</td>\n",
       "      <td>...</td>\n",
       "      <td>...</td>\n",
       "      <td>...</td>\n",
       "      <td>...</td>\n",
       "      <td>...</td>\n",
       "      <td>...</td>\n",
       "      <td>...</td>\n",
       "      <td>...</td>\n",
       "      <td>...</td>\n",
       "      <td>...</td>\n",
       "      <td>...</td>\n",
       "      <td>...</td>\n",
       "      <td>...</td>\n",
       "      <td>...</td>\n",
       "    </tr>\n",
       "    <tr>\n",
       "      <th>3810</th>\n",
       "      <td>154.0</td>\n",
       "      <td>2.0</td>\n",
       "      <td>9.0</td>\n",
       "      <td>10.0</td>\n",
       "      <td>8.0</td>\n",
       "      <td>10.0</td>\n",
       "      <td>8.0</td>\n",
       "      <td>10.0</td>\n",
       "      <td>92.0</td>\n",
       "      <td>1.56</td>\n",
       "      <td>0</td>\n",
       "      <td>0</td>\n",
       "      <td>1</td>\n",
       "      <td>0</td>\n",
       "      <td>0</td>\n",
       "      <td>0</td>\n",
       "      <td>1</td>\n",
       "      <td>0</td>\n",
       "      <td>0</td>\n",
       "    </tr>\n",
       "    <tr>\n",
       "      <th>3811</th>\n",
       "      <td>65.0</td>\n",
       "      <td>1.0</td>\n",
       "      <td>9.0</td>\n",
       "      <td>10.0</td>\n",
       "      <td>10.0</td>\n",
       "      <td>10.0</td>\n",
       "      <td>8.0</td>\n",
       "      <td>10.0</td>\n",
       "      <td>100.0</td>\n",
       "      <td>0.63</td>\n",
       "      <td>0</td>\n",
       "      <td>0</td>\n",
       "      <td>1</td>\n",
       "      <td>0</td>\n",
       "      <td>0</td>\n",
       "      <td>0</td>\n",
       "      <td>1</td>\n",
       "      <td>0</td>\n",
       "      <td>0</td>\n",
       "    </tr>\n",
       "    <tr>\n",
       "      <th>3812</th>\n",
       "      <td>95.0</td>\n",
       "      <td>1.0</td>\n",
       "      <td>10.0</td>\n",
       "      <td>10.0</td>\n",
       "      <td>10.0</td>\n",
       "      <td>9.0</td>\n",
       "      <td>10.0</td>\n",
       "      <td>10.0</td>\n",
       "      <td>96.0</td>\n",
       "      <td>4.01</td>\n",
       "      <td>0</td>\n",
       "      <td>0</td>\n",
       "      <td>1</td>\n",
       "      <td>0</td>\n",
       "      <td>0</td>\n",
       "      <td>0</td>\n",
       "      <td>1</td>\n",
       "      <td>0</td>\n",
       "      <td>0</td>\n",
       "    </tr>\n",
       "    <tr>\n",
       "      <th>3813</th>\n",
       "      <td>359.0</td>\n",
       "      <td>3.0</td>\n",
       "      <td>8.0</td>\n",
       "      <td>4.0</td>\n",
       "      <td>8.0</td>\n",
       "      <td>10.0</td>\n",
       "      <td>10.0</td>\n",
       "      <td>8.0</td>\n",
       "      <td>80.0</td>\n",
       "      <td>0.30</td>\n",
       "      <td>0</td>\n",
       "      <td>0</td>\n",
       "      <td>1</td>\n",
       "      <td>0</td>\n",
       "      <td>0</td>\n",
       "      <td>0</td>\n",
       "      <td>1</td>\n",
       "      <td>0</td>\n",
       "      <td>0</td>\n",
       "    </tr>\n",
       "    <tr>\n",
       "      <th>3814</th>\n",
       "      <td>79.0</td>\n",
       "      <td>1.0</td>\n",
       "      <td>10.0</td>\n",
       "      <td>10.0</td>\n",
       "      <td>10.0</td>\n",
       "      <td>10.0</td>\n",
       "      <td>10.0</td>\n",
       "      <td>10.0</td>\n",
       "      <td>100.0</td>\n",
       "      <td>2.00</td>\n",
       "      <td>0</td>\n",
       "      <td>0</td>\n",
       "      <td>1</td>\n",
       "      <td>0</td>\n",
       "      <td>0</td>\n",
       "      <td>0</td>\n",
       "      <td>1</td>\n",
       "      <td>0</td>\n",
       "      <td>0</td>\n",
       "    </tr>\n",
       "  </tbody>\n",
       "</table>\n",
       "<p>3152 rows × 19 columns</p>\n",
       "</div>"
      ],
      "text/plain": [
       "      price  bedrooms  review_scores_accuracy  review_scores_checkin  \\\n",
       "0      85.0       1.0                    10.0                   10.0   \n",
       "1     150.0       1.0                    10.0                   10.0   \n",
       "2     975.0       5.0                    10.0                   10.0   \n",
       "4     450.0       3.0                     9.0                   10.0   \n",
       "5     120.0       1.0                    10.0                   10.0   \n",
       "...     ...       ...                     ...                    ...   \n",
       "3810  154.0       2.0                     9.0                   10.0   \n",
       "3811   65.0       1.0                     9.0                   10.0   \n",
       "3812   95.0       1.0                    10.0                   10.0   \n",
       "3813  359.0       3.0                     8.0                    4.0   \n",
       "3814   79.0       1.0                    10.0                   10.0   \n",
       "\n",
       "      review_scores_value  review_scores_location  review_scores_cleanliness  \\\n",
       "0                    10.0                     9.0                       10.0   \n",
       "1                    10.0                    10.0                       10.0   \n",
       "2                    10.0                    10.0                       10.0   \n",
       "4                     9.0                     9.0                        9.0   \n",
       "5                    10.0                    10.0                       10.0   \n",
       "...                   ...                     ...                        ...   \n",
       "3810                  8.0                    10.0                        8.0   \n",
       "3811                 10.0                    10.0                        8.0   \n",
       "3812                 10.0                     9.0                       10.0   \n",
       "3813                  8.0                    10.0                       10.0   \n",
       "3814                 10.0                    10.0                       10.0   \n",
       "\n",
       "      review_scores_communication  review_scores_rating  reviews_per_month  \\\n",
       "0                            10.0                  95.0               4.07   \n",
       "1                            10.0                  96.0               1.48   \n",
       "2                            10.0                  97.0               1.15   \n",
       "4                            10.0                  92.0               0.89   \n",
       "5                            10.0                  95.0               2.45   \n",
       "...                           ...                   ...                ...   \n",
       "3810                         10.0                  92.0               1.56   \n",
       "3811                         10.0                 100.0               0.63   \n",
       "3812                         10.0                  96.0               4.01   \n",
       "3813                          8.0                  80.0               0.30   \n",
       "3814                         10.0                 100.0               2.00   \n",
       "\n",
       "      city_Ballard, Seattle  city_Phinney Ridge Seattle  city_Seattle  \\\n",
       "0                         0                           0             1   \n",
       "1                         0                           0             1   \n",
       "2                         0                           0             1   \n",
       "4                         0                           0             1   \n",
       "5                         0                           0             1   \n",
       "...                     ...                         ...           ...   \n",
       "3810                      0                           0             1   \n",
       "3811                      0                           0             1   \n",
       "3812                      0                           0             1   \n",
       "3813                      0                           0             1   \n",
       "3814                      0                           0             1   \n",
       "\n",
       "      city_Seattle   city_West Seattle  city_西雅图  room_type_Entire home/apt  \\\n",
       "0                 0                  0         0                          1   \n",
       "1                 0                  0         0                          1   \n",
       "2                 0                  0         0                          1   \n",
       "4                 0                  0         0                          1   \n",
       "5                 0                  0         0                          0   \n",
       "...             ...                ...       ...                        ...   \n",
       "3810              0                  0         0                          1   \n",
       "3811              0                  0         0                          1   \n",
       "3812              0                  0         0                          1   \n",
       "3813              0                  0         0                          1   \n",
       "3814              0                  0         0                          1   \n",
       "\n",
       "      room_type_Private room  room_type_Shared room  \n",
       "0                          0                      0  \n",
       "1                          0                      0  \n",
       "2                          0                      0  \n",
       "4                          0                      0  \n",
       "5                          1                      0  \n",
       "...                      ...                    ...  \n",
       "3810                       0                      0  \n",
       "3811                       0                      0  \n",
       "3812                       0                      0  \n",
       "3813                       0                      0  \n",
       "3814                       0                      0  \n",
       "\n",
       "[3152 rows x 19 columns]"
      ]
     },
     "execution_count": 98,
     "metadata": {},
     "output_type": "execute_result"
    }
   ],
   "source": [
    "# Now we will do some encodings fo city and room type\n",
    "df_listings_encoded = pd.get_dummies(df_listings_cleaned, columns=['city', 'room_type'])\n",
    "df_listings_encoded"
   ]
  },
  {
   "cell_type": "code",
   "execution_count": 82,
   "metadata": {},
   "outputs": [
    {
     "data": {
      "text/plain": [
       "Index(['price', 'bedrooms', 'review_scores_accuracy', 'review_scores_checkin',\n",
       "       'review_scores_value', 'review_scores_location',\n",
       "       'review_scores_cleanliness', 'review_scores_communication',\n",
       "       'review_scores_rating', 'reviews_per_month', 'city_Ballard, Seattle',\n",
       "       'city_Phinney Ridge Seattle', 'city_Seattle', 'city_Seattle ',\n",
       "       'city_West Seattle', 'city_西雅图', 'room_type_Entire home/apt',\n",
       "       'room_type_Private room', 'room_type_Shared room'],\n",
       "      dtype='object')"
      ]
     },
     "execution_count": 82,
     "metadata": {},
     "output_type": "execute_result"
    }
   ],
   "source": [
    "df_listings_encoded.columns"
   ]
  },
  {
   "cell_type": "code",
   "execution_count": 83,
   "metadata": {},
   "outputs": [],
   "source": [
    "# Here we start to do our model by a linear regression and introduce the features.\n",
    "\n",
    "X = df_listings_encoded[['review_scores_accuracy',\n",
    "                         'bedrooms',\n",
    "                         'review_scores_checkin',\n",
    "                         'review_scores_value',\n",
    "                         'review_scores_location',\n",
    "                         'review_scores_cleanliness',\n",
    "                         'review_scores_communication',\n",
    "                         'review_scores_rating',\n",
    "                         'reviews_per_month',\n",
    "                         'city_Ballard, Seattle',\n",
    "                         'city_Phinney Ridge Seattle',\n",
    "                         'city_Seattle', \n",
    "                         'city_Seattle ',\n",
    "                         'city_West Seattle',\n",
    "                         'city_西雅图', # This is Seattle in chinese (There is a very specific business niche)\n",
    "                         'room_type_Entire home/apt',\n",
    "                         'room_type_Private room',\n",
    "                         'room_type_Shared room']]\n",
    "# Price is assigned to y as predicted column.\n",
    "y = df_listings_encoded['price']\n",
    "\n",
    "# Create the test and train sets\n",
    "X_train, X_test, y_train, y_test = train_test_split(X, y, test_size = .30, random_state=42)\n",
    "\n",
    "lm_model = LinearRegression(normalize=True) \n",
    "\n",
    "lm_model.fit(X_train, y_train) \n",
    "\n",
    "#Predict using your model\n",
    "y_test_preds = lm_model.predict(X_test)\n",
    "y_train_preds = lm_model.predict(X_train)"
   ]
  },
  {
   "cell_type": "markdown",
   "metadata": {},
   "source": [
    "### Evaluation\n"
   ]
  },
  {
   "cell_type": "code",
   "execution_count": 84,
   "metadata": {},
   "outputs": [
    {
     "name": "stdout",
     "output_type": "stream",
     "text": [
      "Train Score: 0.5220793492152059\n",
      "Test Score 0.4695097284035037\n"
     ]
    }
   ],
   "source": [
    "#Score using your model\n",
    "test_score = r2_score(y_test, y_test_preds)\n",
    "train_score = r2_score(y_train, y_train_preds)\n",
    "\n",
    "#traing score\n",
    "print('Train Score:', train_score)\n",
    "\n",
    "#test score\n",
    "print('Test Score', test_score)"
   ]
  },
  {
   "cell_type": "markdown",
   "metadata": {},
   "source": [
    "In the current model the r-squared value is 0.46 which is not too high for the test set. However, it will provide us an insight of features that may be replaced for other in order to improve the predictions."
   ]
  },
  {
   "cell_type": "code",
   "execution_count": 85,
   "metadata": {},
   "outputs": [
    {
     "data": {
      "text/html": [
       "<div>\n",
       "<style scoped>\n",
       "    .dataframe tbody tr th:only-of-type {\n",
       "        vertical-align: middle;\n",
       "    }\n",
       "\n",
       "    .dataframe tbody tr th {\n",
       "        vertical-align: top;\n",
       "    }\n",
       "\n",
       "    .dataframe thead th {\n",
       "        text-align: right;\n",
       "    }\n",
       "</style>\n",
       "<table border=\"1\" class=\"dataframe\">\n",
       "  <thead>\n",
       "    <tr style=\"text-align: right;\">\n",
       "      <th></th>\n",
       "      <th>est_int</th>\n",
       "      <th>coefs</th>\n",
       "      <th>abs_coefs</th>\n",
       "    </tr>\n",
       "  </thead>\n",
       "  <tbody>\n",
       "    <tr>\n",
       "      <th>1</th>\n",
       "      <td>bedrooms</td>\n",
       "      <td>56.834175</td>\n",
       "      <td>56.834175</td>\n",
       "    </tr>\n",
       "    <tr>\n",
       "      <th>17</th>\n",
       "      <td>room_type_Shared room</td>\n",
       "      <td>-53.629980</td>\n",
       "      <td>53.629980</td>\n",
       "    </tr>\n",
       "    <tr>\n",
       "      <th>12</th>\n",
       "      <td>city_Seattle</td>\n",
       "      <td>41.629513</td>\n",
       "      <td>41.629513</td>\n",
       "    </tr>\n",
       "    <tr>\n",
       "      <th>15</th>\n",
       "      <td>room_type_Entire home/apt</td>\n",
       "      <td>28.977239</td>\n",
       "      <td>28.977239</td>\n",
       "    </tr>\n",
       "    <tr>\n",
       "      <th>16</th>\n",
       "      <td>room_type_Private room</td>\n",
       "      <td>-23.896428</td>\n",
       "      <td>23.896428</td>\n",
       "    </tr>\n",
       "    <tr>\n",
       "      <th>9</th>\n",
       "      <td>city_Ballard, Seattle</td>\n",
       "      <td>-19.841904</td>\n",
       "      <td>19.841904</td>\n",
       "    </tr>\n",
       "    <tr>\n",
       "      <th>3</th>\n",
       "      <td>review_scores_value</td>\n",
       "      <td>-16.493752</td>\n",
       "      <td>16.493752</td>\n",
       "    </tr>\n",
       "    <tr>\n",
       "      <th>4</th>\n",
       "      <td>review_scores_location</td>\n",
       "      <td>12.457234</td>\n",
       "      <td>12.457234</td>\n",
       "    </tr>\n",
       "    <tr>\n",
       "      <th>11</th>\n",
       "      <td>city_Seattle</td>\n",
       "      <td>-10.063477</td>\n",
       "      <td>10.063477</td>\n",
       "    </tr>\n",
       "    <tr>\n",
       "      <th>13</th>\n",
       "      <td>city_West Seattle</td>\n",
       "      <td>9.209943</td>\n",
       "      <td>9.209943</td>\n",
       "    </tr>\n",
       "    <tr>\n",
       "      <th>2</th>\n",
       "      <td>review_scores_checkin</td>\n",
       "      <td>-4.994340</td>\n",
       "      <td>4.994340</td>\n",
       "    </tr>\n",
       "    <tr>\n",
       "      <th>5</th>\n",
       "      <td>review_scores_cleanliness</td>\n",
       "      <td>4.243476</td>\n",
       "      <td>4.243476</td>\n",
       "    </tr>\n",
       "    <tr>\n",
       "      <th>8</th>\n",
       "      <td>reviews_per_month</td>\n",
       "      <td>-3.663167</td>\n",
       "      <td>3.663167</td>\n",
       "    </tr>\n",
       "    <tr>\n",
       "      <th>6</th>\n",
       "      <td>review_scores_communication</td>\n",
       "      <td>2.856011</td>\n",
       "      <td>2.856011</td>\n",
       "    </tr>\n",
       "    <tr>\n",
       "      <th>7</th>\n",
       "      <td>review_scores_rating</td>\n",
       "      <td>1.407511</td>\n",
       "      <td>1.407511</td>\n",
       "    </tr>\n",
       "    <tr>\n",
       "      <th>0</th>\n",
       "      <td>review_scores_accuracy</td>\n",
       "      <td>-0.024026</td>\n",
       "      <td>0.024026</td>\n",
       "    </tr>\n",
       "    <tr>\n",
       "      <th>10</th>\n",
       "      <td>city_Phinney Ridge Seattle</td>\n",
       "      <td>0.000000</td>\n",
       "      <td>0.000000</td>\n",
       "    </tr>\n",
       "    <tr>\n",
       "      <th>14</th>\n",
       "      <td>city_西雅图</td>\n",
       "      <td>0.000000</td>\n",
       "      <td>0.000000</td>\n",
       "    </tr>\n",
       "  </tbody>\n",
       "</table>\n",
       "</div>"
      ],
      "text/plain": [
       "                        est_int      coefs  abs_coefs\n",
       "1                      bedrooms  56.834175  56.834175\n",
       "17        room_type_Shared room -53.629980  53.629980\n",
       "12                city_Seattle   41.629513  41.629513\n",
       "15    room_type_Entire home/apt  28.977239  28.977239\n",
       "16       room_type_Private room -23.896428  23.896428\n",
       "9         city_Ballard, Seattle -19.841904  19.841904\n",
       "3           review_scores_value -16.493752  16.493752\n",
       "4        review_scores_location  12.457234  12.457234\n",
       "11                 city_Seattle -10.063477  10.063477\n",
       "13            city_West Seattle   9.209943   9.209943\n",
       "2         review_scores_checkin  -4.994340   4.994340\n",
       "5     review_scores_cleanliness   4.243476   4.243476\n",
       "8             reviews_per_month  -3.663167   3.663167\n",
       "6   review_scores_communication   2.856011   2.856011\n",
       "7          review_scores_rating   1.407511   1.407511\n",
       "0        review_scores_accuracy  -0.024026   0.024026\n",
       "10   city_Phinney Ridge Seattle   0.000000   0.000000\n",
       "14                     city_西雅图   0.000000   0.000000"
      ]
     },
     "execution_count": 85,
     "metadata": {},
     "output_type": "execute_result"
    }
   ],
   "source": [
    "def coef_weights(coefficients, X_train):\n",
    "    '''\n",
    "    INPUT:\n",
    "    coefficients - the coefficients of the linear model \n",
    "    X_train - the training data, so the column names can be used\n",
    "    OUTPUT:\n",
    "    coefs_df - a dataframe holding the coefficient, estimate, and abs(estimate)\n",
    "    \n",
    "    Provides a dataframe that can be used to understand the most influential coefficients\n",
    "    in a linear model by providing the coefficient estimates along with the name of the \n",
    "    variable attached to the coefficient.\n",
    "    '''\n",
    "    coefs_df = pd.DataFrame()\n",
    "    coefs_df['est_int'] = X_train.columns\n",
    "    coefs_df['coefs'] = lm_model.coef_\n",
    "    coefs_df['abs_coefs'] = np.abs(lm_model.coef_)\n",
    "    coefs_df = coefs_df.sort_values('abs_coefs', ascending=False)\n",
    "    return coefs_df\n",
    "\n",
    "#Use the function\n",
    "coef_df = coef_weights(lm_model.coef_, X_train)\n",
    "\n",
    "#A quick look at the top results\n",
    "coef_df.head(20)"
   ]
  },
  {
   "cell_type": "markdown",
   "metadata": {},
   "source": [
    "The following answer confirms that bedrooms, type of room and room location are the main drivers of the price and the reviews seems to not have impact in the price. However, they may have impact in the occupancy and revenue for the hosts. That would be another analysis to do in teh future."
   ]
  },
  {
   "cell_type": "markdown",
   "metadata": {},
   "source": [
    "### Deployment\n"
   ]
  },
  {
   "cell_type": "markdown",
   "metadata": {},
   "source": [
    "In this case instead of deployin the code in a server production, I would share these insights in an article in Medium. The article can be found here:\n",
    "[Article](https://medium.com/@jose0628/sea-2fe2b5cb49d) "
   ]
  },
  {
   "cell_type": "markdown",
   "metadata": {},
   "source": [
    "### Conclusions"
   ]
  },
  {
   "cell_type": "markdown",
   "metadata": {},
   "source": [
    "We could see that the price of Airbnb is mostly driven by the number of bedrooms, location of the renting space and the type mostly. There is little evidence that reviews or the quality of the bed can increase the price per night. Moreover, internet, heating, kitchen and smoke detector seems to be the top ammenities offered in order to make you feel at home but it does not imply that the user may like it. Finally, the most expensive time of the year to visit Seattle is June, July and August.\n",
    "\n",
    "All this information helps us to undertand better the Airbnb market in Seattle and thecode can be reused as a guidance for future Airbnb analyses in other locations."
   ]
  },
  {
   "cell_type": "code",
   "execution_count": null,
   "metadata": {},
   "outputs": [],
   "source": []
  }
 ],
 "metadata": {
  "kernelspec": {
   "display_name": "Python 3",
   "language": "python",
   "name": "python3"
  },
  "language_info": {
   "codemirror_mode": {
    "name": "ipython",
    "version": 3
   },
   "file_extension": ".py",
   "mimetype": "text/x-python",
   "name": "python",
   "nbconvert_exporter": "python",
   "pygments_lexer": "ipython3",
   "version": "3.7.6"
  },
  "pycharm": {
   "stem_cell": {
    "cell_type": "raw",
    "source": [],
    "metadata": {
     "collapsed": false
    }
   }
  }
 },
 "nbformat": 4,
 "nbformat_minor": 4
}