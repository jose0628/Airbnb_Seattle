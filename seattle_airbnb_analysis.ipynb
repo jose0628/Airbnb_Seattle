{
 "cells": [
  {
   "cell_type": "markdown",
   "source": [
    "## AirBnB Seattle Analysis with CRISP-DM (Cross Industry Standard Process for Data Mining) \n",
    "\n",
    "A brief analysis example using CRISP-DM methodology. This methodology suggest a data analysis in the following steps:\n",
    "\n",
    "* Business Understanding\n",
    "* Data understanding\n",
    "* Data Preparation\n",
    "* Modeling\n",
    "* Evaluation\n",
    "* Deployment"
   ],
   "metadata": {
    "collapsed": false
   }
  },
  {
   "cell_type": "markdown",
   "source": [
    "### Business Understanding\n",
    "\n",
    "Imagine that you have a room or an appartment in Seattle and you would like to offer it via Airbnb. In order o help you to make an initial setup and list it in Airbnb. You would like to know some simple insights of the Airbnb market. The following questions represent in general a good overview of the Airbnb market.\n",
    "\n",
    "* What is the relation room type and part of the city with the price?\n",
    "* Is there a price difference between room type and the bed type?\n",
    "* Are bathrooms or bedrooms important perks to influence the price?\n",
    "* What are the top amenities offered?\n",
    "* What months are cheaper to visit Seattle?\n",
    "* What are features or characteristics that influence in the price of a room?"
   ],
   "metadata": {
    "collapsed": false
   }
  },
  {
   "cell_type": "code",
   "execution_count": null,
   "outputs": [],
   "source": [
    "# Here I just add some libraries, which will be useful during the process.\n",
    "\n",
    "import numpy as np\n",
    "import pandas as pd\n",
    "import matplotlib.pyplot as plt\n",
    "from sklearn.linear_model import LinearRegression\n",
    "from sklearn.model_selection import train_test_split\n",
    "from sklearn.metrics import r2_score, mean_squared_error\n",
    "import seaborn as sns\n",
    "from sklearn.preprocessing import MultiLabelBinarizer,LabelEncoder,OneHotEncoder,StandardScaler \n",
    "import sklearn.metrics as mtr\n",
    "import math\n",
    "%matplotlib inline"
   ],
   "metadata": {
    "collapsed": false,
    "pycharm": {
     "name": "#%%\n"
    }
   }
  },
  {
   "cell_type": "markdown",
   "source": [
    "### Data Understanding\n",
    "\n",
    "Second step is to explore the data and based on the [AirBnB Seattle Dataset](https://www.kaggle.com/airbnb/seattle/data), we will get mainly three datasets, which we will analyse:\n",
    "\n",
    "* calendar.csv ==> Booking information of houses in Seattle.\n",
    "* listings.csv ==> Information of houses in Seattle.\n",
    "* reviews.csv ==> Reviews of houses in Seattle.\n"
   ],
   "metadata": {
    "collapsed": false
   }
  },
  {
   "cell_type": "code",
   "execution_count": null,
   "outputs": [],
   "source": [
    "# Loading the datasets in pandas\n",
    "\n",
    "df_calendar = pd.read_csv('datasets/calendar.csv')\n",
    "df_reviews = pd.read_csv('datasets/reviews.csv')\n",
    "df_listings = pd.read_csv('datasets/listings.csv')\n",
    "\n",
    "print('The dataset calendar has {} rows and {} columns.'.format(df_calendar.shape[0], df_calendar.shape[1]))\n",
    "print('The dataset reviews has {} rows and {} columns.'.format(df_reviews.shape[0], df_reviews.shape[1]))\n",
    "print('The dataset listings has {} rows and {} columns.'.format(df_listings.shape[0], df_listings.shape[1]))"
   ],
   "metadata": {
    "collapsed": false,
    "pycharm": {
     "name": "#%%\n"
    }
   }
  },
  {
   "cell_type": "markdown",
   "source": [
    "#### Data Cleaning & Exploration Strategy \n",
    "Based on the size of the datasets, we see that the calendar has most of the entries and the listings has most of the columns or features. \n",
    "\n",
    "The first step will be to get a sample of the first 5 rows in three datasets, in order to see the information provided and searh for information that can help us to answer the business questions.\n",
    "\n",
    "Then in a further step, we will proceed to discard or impute some values, depending of the information needed."
   ],
   "metadata": {
    "collapsed": false
   }
  },
  {
   "cell_type": "code",
   "execution_count": null,
   "outputs": [],
   "source": [
    "df_calendar.head(5)"
   ],
   "metadata": {
    "collapsed": false,
    "pycharm": {
     "name": "#%%\n"
    }
   }
  },
  {
   "cell_type": "code",
   "execution_count": null,
   "outputs": [],
   "source": [
    "# Now lets take a look on the null values contained in the dataframe\n",
    "null_ratio_calendar = df_calendar.isnull().sum()/df_calendar.shape[0]\n",
    "null_ratio_calendar"
   ],
   "metadata": {
    "collapsed": false,
    "pycharm": {
     "name": "#%%\n"
    }
   }
  },
  {
   "cell_type": "markdown",
   "source": [
    "It looks like the price has a 32.93% ratio of missing values, in this case, it may be convenient to drop them."
   ],
   "metadata": {
    "collapsed": false
   }
  },
  {
   "cell_type": "code",
   "execution_count": null,
   "outputs": [],
   "source": [
    "df_reviews.head(5)"
   ],
   "metadata": {
    "collapsed": false,
    "pycharm": {
     "name": "#%%\n"
    }
   }
  },
  {
   "cell_type": "code",
   "execution_count": null,
   "outputs": [],
   "source": [
    "null_ratio_reviews = df_reviews.isnull().sum()/df_reviews.shape[0]\n",
    "null_ratio_reviews"
   ],
   "metadata": {
    "collapsed": false,
    "pycharm": {
     "name": "#%%\n"
    }
   }
  },
  {
   "cell_type": "markdown",
   "source": [
    "Here the percentage of people, who do not leave a comment is very low. It seems that most of the guests hasve always something to mention about their experience."
   ],
   "metadata": {
    "collapsed": false
   }
  },
  {
   "cell_type": "code",
   "execution_count": null,
   "outputs": [],
   "source": [
    "df_listings.head(5)"
   ],
   "metadata": {
    "collapsed": false,
    "pycharm": {
     "name": "#%%\n"
    }
   }
  },
  {
   "cell_type": "code",
   "execution_count": null,
   "outputs": [],
   "source": [
    "pd.set_option('display.max_rows', 92)\n",
    "null_ratio_listings = df_listings.isnull().sum()/df_listings.shape[0]\n",
    "null_ratio_listings.sort_values(ascending=False)"
   ],
   "metadata": {
    "collapsed": false,
    "pycharm": {
     "name": "#%%\n"
    }
   }
  },
  {
   "cell_type": "code",
   "execution_count": null,
   "outputs": [],
   "source": [
    "# For the listings data, I get more curious and I would like to know, how many columns do not have null values?\n",
    "no_null_listings = set(df_listings.columns[df_listings.isnull().mean()==0])\n",
    "no_null_listings"
   ],
   "metadata": {
    "collapsed": false,
    "pycharm": {
     "name": "#%%\n"
    }
   }
  },
  {
   "cell_type": "markdown",
   "source": [
    "This is great and simplify our work since we can use only the listings dataframe to answer most of our business questions."
   ],
   "metadata": {
    "collapsed": false
   }
  },
  {
   "cell_type": "markdown",
   "source": [
    "### Data Preparation & Questions\n",
    "\n",
    "The first set of questions 1-4 will be answered while we prepare the data and later in order to answer the last question. It is important to move into the modeling in the next section."
   ],
   "metadata": {
    "collapsed": false
   }
  },
  {
   "cell_type": "markdown",
   "source": [
    "#### What is the price relation between room type and suburb of the city?"
   ],
   "metadata": {
    "collapsed": false
   }
  },
  {
   "cell_type": "code",
   "execution_count": null,
   "outputs": [],
   "source": [
    "df_listings['price'] = df_listings['price'].replace(r'[$,%]', '', regex = True).astype(float)\n",
    "plt.figure(figsize=(16, 6))\n",
    "sns.barplot(x=\"city\", y=\"price\", hue=\"room_type\", data=df_listings)"
   ],
   "metadata": {
    "collapsed": false,
    "pycharm": {
     "name": "#%%\n"
    }
   }
  },
  {
   "cell_type": "markdown",
   "source": [
    "In general Seattle city and Seattle are the locations in which the major appartment concentration is located. It is quite inresting to see that the offer for shared rooms is very limited. Which implies that privacy is important."
   ],
   "metadata": {
    "collapsed": false
   }
  },
  {
   "cell_type": "code",
   "execution_count": null,
   "outputs": [],
   "source": [
    "# What is the place with special characters?\n",
    "df_listings.groupby('city').count()\n",
    "\n",
    "# It is 西雅图 = Seattle in chinesse"
   ],
   "metadata": {
    "collapsed": false,
    "pycharm": {
     "name": "#%%\n"
    }
   }
  },
  {
   "cell_type": "markdown",
   "source": [
    "It seems that there is a very small niche for only chinesse speakers"
   ],
   "metadata": {
    "collapsed": false
   }
  },
  {
   "cell_type": "markdown",
   "source": [
    "#### Is there a price difference between room type and bed type?"
   ],
   "metadata": {
    "collapsed": false
   }
  },
  {
   "cell_type": "code",
   "execution_count": null,
   "outputs": [],
   "source": [
    "plt.figure(figsize=(16, 5))\n",
    "sns.barplot(x=\"room_type\", y=\"price\", hue=\"bed_type\", data=df_listings)"
   ],
   "metadata": {
    "collapsed": false,
    "pycharm": {
     "name": "#%%\n"
    }
   }
  },
  {
   "cell_type": "markdown",
   "source": [
    "There is not a significant difference between the bed material and the room type. Couch and real bed in appartments do not have any significant difference in price. This may indicates that the price is not driven by the bed quality."
   ],
   "metadata": {
    "collapsed": false
   }
  },
  {
   "cell_type": "markdown",
   "source": [
    "#### Are the number of bathrooms or bedrooms important perks to influence the price?"
   ],
   "metadata": {
    "collapsed": false
   }
  },
  {
   "cell_type": "code",
   "execution_count": null,
   "outputs": [],
   "source": [
    "plt.figure(figsize=(16, 6))\n",
    "sns.barplot(x=\"room_type\", y=\"price\", hue=\"bathrooms\", data=df_listings)"
   ],
   "metadata": {
    "collapsed": false,
    "pycharm": {
     "name": "#%%\n"
    }
   }
  },
  {
   "cell_type": "code",
   "execution_count": null,
   "outputs": [],
   "source": [
    "plt.figure(figsize=(16, 6))\n",
    "sns.barplot(x=\"room_type\", y=\"price\", hue=\"bedrooms\", data=df_listings)"
   ],
   "metadata": {
    "collapsed": false,
    "pycharm": {
     "name": "#%%\n"
    }
   }
  },
  {
   "cell_type": "markdown",
   "source": [
    "It seems that there is a high correlation between the number of bedrooms and bathrooms, It is significant in the entire home/apt category."
   ],
   "metadata": {
    "collapsed": false
   }
  },
  {
   "cell_type": "markdown",
   "source": [
    "#### What is the proportion of min and max nights offered in the Seattle Airbnb market? (Bonus)"
   ],
   "metadata": {
    "collapsed": false
   }
  },
  {
   "cell_type": "code",
   "execution_count": null,
   "outputs": [],
   "source": [
    "plt.figure(figsize=(16, 6))\n",
    "sns.barplot(x=\"minimum_nights\", y=\"price\", hue=\"room_type\", data=df_listings)"
   ],
   "metadata": {
    "collapsed": false,
    "pycharm": {
     "name": "#%%\n"
    }
   }
  },
  {
   "cell_type": "markdown",
   "source": [
    "There not a clear pattern of min recommended number of nights"
   ],
   "metadata": {
    "collapsed": false
   }
  },
  {
   "cell_type": "markdown",
   "source": [
    "#### Price vs Guest included by room type"
   ],
   "metadata": {
    "collapsed": false
   }
  },
  {
   "cell_type": "code",
   "execution_count": null,
   "outputs": [],
   "source": [
    "plt.figure(figsize=(16, 6))\n",
    "sns.barplot(x=\"room_type\", y=\"price\", hue=\"guests_included\", data=df_listings)"
   ],
   "metadata": {
    "collapsed": false,
    "pycharm": {
     "name": "#%%\n"
    }
   }
  },
  {
   "cell_type": "markdown",
   "source": [
    "#### What are the room types most reviewed?"
   ],
   "metadata": {
    "collapsed": false
   }
  },
  {
   "cell_type": "code",
   "execution_count": null,
   "outputs": [],
   "source": [
    "plt.figure(figsize=(16, 6))\n",
    "sns.barplot(x=\"room_type\", y=\"number_of_reviews\", data=df_listings)"
   ],
   "metadata": {
    "collapsed": false,
    "pycharm": {
     "name": "#%%\n"
    }
   }
  },
  {
   "cell_type": "code",
   "execution_count": null,
   "outputs": [],
   "source": [
    "amt = df_listings['amenities'].apply(lambda x: [amenity.replace('\"', \"\").replace(\"{\", \"\").replace(\"}\", \"\") \n",
    "                                               for amenity in x.split(\",\")])\n",
    "\n",
    "mlb = MultiLabelBinarizer()\n",
    "label_amt = pd.DataFrame(mlb.fit_transform(amt), columns=mlb.classes_, index=amt.index)\n",
    "\n",
    "amt_count=label_amt.sum().sort_values(ascending=False)\n",
    "\n",
    "d = {'Amenity': amt_count.index, 'Count': amt_count.values}\n",
    "df_amt_count = pd.DataFrame(data=d)\n",
    "\n",
    "plt.figure(figsize=(16, 6))\n",
    "sns.barplot(x=\"Amenity\", y=\"Count\", data=df_amt_count.head(10))"
   ],
   "metadata": {
    "collapsed": false,
    "pycharm": {
     "name": "#%%\n"
    }
   }
  },
  {
   "cell_type": "markdown",
   "source": [
    "Internet, Kitchen, heating, smoke detector and essentials are all that you need to feel at home and make some savings during a trip."
   ],
   "metadata": {
    "collapsed": false
   }
  },
  {
   "cell_type": "markdown",
   "source": [
    "#### Price relation between instant bookable and room type"
   ],
   "metadata": {
    "collapsed": false
   }
  },
  {
   "cell_type": "code",
   "execution_count": null,
   "outputs": [],
   "source": [
    "plt.figure(figsize=(16, 6))\n",
    "sns.barplot(x=\"room_type\", y=\"price\", hue=\"instant_bookable\", data=df_listings)"
   ],
   "metadata": {
    "collapsed": false,
    "pycharm": {
     "name": "#%%\n"
    }
   }
  },
  {
   "cell_type": "markdown",
   "source": [
    "There is not a significant difference. However, it seems that private rooms, which are not instant bookeble available are more expensive"
   ],
   "metadata": {
    "collapsed": false
   }
  },
  {
   "cell_type": "markdown",
   "source": [
    "#### What months are cheaper to visit Seattle?"
   ],
   "metadata": {
    "collapsed": false
   }
  },
  {
   "cell_type": "code",
   "execution_count": null,
   "outputs": [],
   "source": [
    "df_calendar['month'] = pd.DatetimeIndex(df_calendar['date']).month\n",
    "df_calendar.dropna(subset=['price'], inplace=True)\n",
    "df_calendar['price'] = df_calendar['price'].replace(r'[$,%]', '', regex = True).astype(float)\n",
    "\n",
    "plt.figure(figsize=(16, 6))\n",
    "sns.lineplot(x=\"month\", y=\"price\",marker=\"o\", data=df_calendar)"
   ],
   "metadata": {
    "collapsed": false,
    "pycharm": {
     "name": "#%%\n"
    }
   }
  },
  {
   "cell_type": "markdown",
   "source": [
    "June, July and August are the most expensive months to visit Seattle"
   ],
   "metadata": {
    "collapsed": false
   }
  },
  {
   "cell_type": "markdown",
   "source": [
    "####  What are features or characteristics that influence in the price of a room?\n",
    "\n",
    "In order to answer this question, we need to move forward and in this case use a simple linear regression to predict price values and depending of the features, the accuracy may increase or not."
   ],
   "metadata": {
    "collapsed": false
   }
  },
  {
   "cell_type": "markdown",
   "source": [
    "### Modeling\n"
   ],
   "metadata": {
    "collapsed": false
   }
  },
  {
   "cell_type": "markdown",
   "source": [
    "In order to have a simple approximation, I would based my featues based on review scores, section of the city, room type and number of bedrooms. I would for the moment discard features such as beds, bathrooms in order to see if we get some good feature representation to predict the price."
   ],
   "metadata": {
    "collapsed": false
   }
  },
  {
   "cell_type": "code",
   "execution_count": null,
   "outputs": [],
   "source": [
    "features = ['city',\n",
    "            'price',\n",
    "            'room_type',\n",
    "            'bedrooms',\n",
    "            'review_scores_accuracy',\n",
    "            'review_scores_checkin',\n",
    "            'review_scores_value',\n",
    "            'review_scores_location',\n",
    "            'review_scores_cleanliness',\n",
    "            'review_scores_communication',\n",
    "            'review_scores_rating',\n",
    "            'reviews_per_month'\n",
    "           ]\n",
    "\n",
    "df_listings_reduced = df_listings[features]\n",
    "\n",
    "# The decision he is remove all the rows with NaN values and as we saw before, they represent fex incompete rows (~17.23%)\n",
    "df_listings_cleaned = df_listings_reduced.dropna()\n",
    "df_listings_cleaned.shape"
   ],
   "metadata": {
    "collapsed": false,
    "pycharm": {
     "name": "#%%\n"
    }
   }
  },
  {
   "cell_type": "code",
   "execution_count": null,
   "outputs": [],
   "source": [
    "df_listings_cleaned.head()"
   ],
   "metadata": {
    "collapsed": false,
    "pycharm": {
     "name": "#%%\n"
    }
   }
  },
  {
   "cell_type": "code",
   "execution_count": null,
   "outputs": [],
   "source": [
    "# Now we will do some encodings fo city and room type\n",
    "df_listings_encoded = pd.get_dummies(df_listings_cleaned, columns=['city', 'room_type'])\n",
    "df_listings_encoded"
   ],
   "metadata": {
    "collapsed": false,
    "pycharm": {
     "name": "#%%\n"
    }
   }
  },
  {
   "cell_type": "code",
   "execution_count": null,
   "outputs": [],
   "source": [
    "df_listings_encoded.columns"
   ],
   "metadata": {
    "collapsed": false,
    "pycharm": {
     "name": "#%%\n"
    }
   }
  },
  {
   "cell_type": "code",
   "execution_count": null,
   "outputs": [],
   "source": [
    "# Here we start to do our model by a linear regression and introduce the features.\n",
    "\n",
    "X = df_listings_encoded[['review_scores_accuracy',\n",
    "                         'bedrooms',\n",
    "                         'review_scores_checkin',\n",
    "                         'review_scores_value',\n",
    "                         'review_scores_location',\n",
    "                         'review_scores_cleanliness',\n",
    "                         'review_scores_communication',\n",
    "                         'review_scores_rating',\n",
    "                         'reviews_per_month',\n",
    "                         'city_Ballard, Seattle',\n",
    "                         'city_Phinney Ridge Seattle',\n",
    "                         'city_Seattle', \n",
    "                         'city_Seattle ',\n",
    "                         'city_West Seattle',\n",
    "                         'city_西雅图', # This is Seattle in chinese (There is a very specific business niche)\n",
    "                         'room_type_Entire home/apt',\n",
    "                         'room_type_Private room',\n",
    "                         'room_type_Shared room']]\n",
    "# Price is assigned to y as predicted column.\n",
    "y = df_listings_encoded['price']\n",
    "\n",
    "# Create the test and train sets\n",
    "X_train, X_test, y_train, y_test = train_test_split(X, y, test_size = .30, random_state=42)\n",
    "\n",
    "lm_model = LinearRegression(normalize=True) \n",
    "\n",
    "lm_model.fit(X_train, y_train) \n",
    "\n",
    "#Predict using your model\n",
    "y_test_preds = lm_model.predict(X_test)\n",
    "y_train_preds = lm_model.predict(X_train)"
   ],
   "metadata": {
    "collapsed": false,
    "pycharm": {
     "name": "#%%\n"
    }
   }
  },
  {
   "cell_type": "markdown",
   "source": [
    "### Evaluation\n"
   ],
   "metadata": {
    "collapsed": false
   }
  },
  {
   "cell_type": "code",
   "execution_count": null,
   "outputs": [],
   "source": [
    "#Score using your model\n",
    "test_score = r2_score(y_test, y_test_preds)\n",
    "train_score = r2_score(y_train, y_train_preds)\n",
    "\n",
    "#traing score\n",
    "print('Train Score:', train_score)\n",
    "\n",
    "#test score\n",
    "print('Test Score', test_score)"
   ],
   "metadata": {
    "collapsed": false,
    "pycharm": {
     "name": "#%%\n"
    }
   }
  },
  {
   "cell_type": "markdown",
   "source": [
    "In the current model the r-squared value is 0.46 which is not too high for the test set. However, it will provide us an insight of features that may be replaced for other in order to improve the predictions."
   ],
   "metadata": {
    "collapsed": false
   }
  },
  {
   "cell_type": "code",
   "execution_count": null,
   "outputs": [],
   "source": [
    "def coef_weights(coefficients, X_train):\n",
    "    '''\n",
    "    INPUT:\n",
    "    coefficients - the coefficients of the linear model \n",
    "    X_train - the training data, so the column names can be used\n",
    "    OUTPUT:\n",
    "    coefs_df - a dataframe holding the coefficient, estimate, and abs(estimate)\n",
    "    \n",
    "    Provides a dataframe that can be used to understand the most influential coefficients\n",
    "    in a linear model by providing the coefficient estimates along with the name of the \n",
    "    variable attached to the coefficient.\n",
    "    '''\n",
    "    coefs_df = pd.DataFrame()\n",
    "    coefs_df['est_int'] = X_train.columns\n",
    "    coefs_df['coefs'] = lm_model.coef_\n",
    "    coefs_df['abs_coefs'] = np.abs(lm_model.coef_)\n",
    "    coefs_df = coefs_df.sort_values('abs_coefs', ascending=False)\n",
    "    return coefs_df\n",
    "\n",
    "#Use the function\n",
    "coef_df = coef_weights(lm_model.coef_, X_train)\n",
    "\n",
    "#A quick look at the top results\n",
    "coef_df.head(20)"
   ],
   "metadata": {
    "collapsed": false,
    "pycharm": {
     "name": "#%%\n"
    }
   }
  },
  {
   "cell_type": "markdown",
   "source": [
    "The following answer confirms that bedrooms, type of room and room location are the main drivers of the price and the reviews seems to not have impact in the price. However, they may have impact in the occupancy and revenue for the hosts. That would be another analysis to do in teh future."
   ],
   "metadata": {
    "collapsed": false
   }
  },
  {
   "cell_type": "markdown",
   "source": [
    "### Deployment\n"
   ],
   "metadata": {
    "collapsed": false
   }
  },
  {
   "cell_type": "markdown",
   "source": [
    "In this case instead of deployin the code in a server production, I would share these insights in an article in Medium. The article can be found here:\n",
    "[Article](https://medium.com/@jose0628/sea-2fe2b5cb49d) "
   ],
   "metadata": {
    "collapsed": false
   }
  },
  {
   "cell_type": "markdown",
   "source": [
    "### Conclusions"
   ],
   "metadata": {
    "collapsed": false
   }
  },
  {
   "cell_type": "markdown",
   "source": [
    "We could see that the price of Airbnb is mostly driven by the number of bedrooms, location of the renting space and the type mostly. There is little evidence that reviews or the quality of the bed can increase the price per night. Moreover, internel, heating, kitchen and smoke detector seems to be the top ammenities offered in order to make you feel at home but it does not imply that the user may like it. Finally, the most expensive time of the year to visit Seattle is June, July and August.\n",
    "\n",
    "All this information helps us to undertand better the Airbnb market in Seattle and thecode can be reused as a guidance for future Airbnb analyses in other locations."
   ],
   "metadata": {
    "collapsed": false
   }
  },
  {
   "cell_type": "code",
   "execution_count": null,
   "outputs": [],
   "source": [],
   "metadata": {
    "collapsed": false,
    "pycharm": {
     "name": "#%%\n"
    }
   }
  }
 ],
 "metadata": {
  "kernelspec": {
   "display_name": "Python 3",
   "language": "python",
   "name": "python3"
  },
  "language_info": {
   "codemirror_mode": {
    "name": "ipython",
    "version": 3
   },
   "file_extension": ".py",
   "mimetype": "text/x-python",
   "name": "python",
   "nbconvert_exporter": "python",
   "pygments_lexer": "ipython3",
   "version": "3.7.6"
  },
  "pycharm": {
   "stem_cell": {
    "cell_type": "raw",
    "source": [],
    "metadata": {
     "collapsed": false
    }
   }
  }
 },
 "nbformat": 4,
 "nbformat_minor": 4
}